{
 "cells": [
  {
   "cell_type": "code",
   "execution_count": 2,
   "metadata": {},
   "outputs": [],
   "source": [
    "import numpy as np\n",
    "import pandas as pd\n",
    "import subprocess as sp\n",
    "import os\n",
    "from tqdm import tqdm\n",
    "from model_functions import *\n",
    "# from rnaseq_tools import *\n",
    "from matplotlib import pyplot as plt"
   ]
  },
  {
   "cell_type": "code",
   "execution_count": 20,
   "metadata": {},
   "outputs": [],
   "source": [
    "import scipy as sc"
   ]
  },
  {
   "cell_type": "code",
   "execution_count": 22,
   "metadata": {},
   "outputs": [
    {
     "data": {
      "text/plain": [
       "'1.4.1'"
      ]
     },
     "execution_count": 22,
     "metadata": {},
     "output_type": "execute_result"
    }
   ],
   "source": [
    "sc.__version__"
   ]
  },
  {
   "cell_type": "code",
   "execution_count": 50,
   "metadata": {},
   "outputs": [
    {
     "ename": "ImportError",
     "evalue": "scipy.special.cython_special does not export expected C function __pyx_fuse_0pdtr",
     "output_type": "error",
     "traceback": [
      "\u001b[0;31m---------------------------------------------------------------------------\u001b[0m",
      "\u001b[0;31mImportError\u001b[0m                               Traceback (most recent call last)",
      "\u001b[0;32m<ipython-input-50-e08b8dbb75e8>\u001b[0m in \u001b[0;36m<module>\u001b[0;34m\u001b[0m\n\u001b[0;32m----> 1\u001b[0;31m \u001b[0;32mimport\u001b[0m \u001b[0mnumba_special\u001b[0m\u001b[0;34m\u001b[0m\u001b[0;34m\u001b[0m\u001b[0m\n\u001b[0m",
      "\u001b[0;32m~/anaconda3/lib/python3.7/site-packages/numba_special/__init__.py\u001b[0m in \u001b[0;36m<module>\u001b[0;34m\u001b[0m\n\u001b[1;32m    743\u001b[0m     \u001b[0mfloat64\u001b[0m \u001b[0mzetac\u001b[0m\u001b[0;34m(\u001b[0m\u001b[0mfloat64\u001b[0m\u001b[0;34m)\u001b[0m\u001b[0;34m\u001b[0m\u001b[0;34m\u001b[0m\u001b[0m\n\u001b[1;32m    744\u001b[0m \"\"\"\n\u001b[0;32m--> 745\u001b[0;31m \u001b[0;32mfrom\u001b[0m \u001b[0;34m.\u001b[0m \u001b[0;32mimport\u001b[0m \u001b[0mnumba_overloads\u001b[0m\u001b[0;34m\u001b[0m\u001b[0;34m\u001b[0m\u001b[0m\n\u001b[0m",
      "\u001b[0;32m~/anaconda3/lib/python3.7/site-packages/numba_special/numba_overloads.py\u001b[0m in \u001b[0;36m<module>\u001b[0;34m\u001b[0m\n\u001b[1;32m      5\u001b[0m \u001b[0;32mimport\u001b[0m \u001b[0mscipy\u001b[0m\u001b[0;34m.\u001b[0m\u001b[0mspecial\u001b[0m \u001b[0;32mas\u001b[0m \u001b[0msc\u001b[0m\u001b[0;34m\u001b[0m\u001b[0;34m\u001b[0m\u001b[0m\n\u001b[1;32m      6\u001b[0m \u001b[0;34m\u001b[0m\u001b[0m\n\u001b[0;32m----> 7\u001b[0;31m \u001b[0;32mfrom\u001b[0m \u001b[0;34m.\u001b[0m \u001b[0;32mimport\u001b[0m \u001b[0mfunction_pointers\u001b[0m\u001b[0;34m\u001b[0m\u001b[0;34m\u001b[0m\u001b[0m\n\u001b[0m\u001b[1;32m      8\u001b[0m \u001b[0;34m\u001b[0m\u001b[0m\n\u001b[1;32m      9\u001b[0m bytes_to_int_type = {\n",
      "\u001b[0;32m~/anaconda3/lib/python3.7/site-packages/numba_special/function_pointers.pyx\u001b[0m in \u001b[0;36minit numba_special.function_pointers\u001b[0;34m()\u001b[0m\n",
      "\u001b[0;31mImportError\u001b[0m: scipy.special.cython_special does not export expected C function __pyx_fuse_0pdtr"
     ]
    }
   ],
   "source": [
    "import numba_special"
   ]
  },
  {
   "cell_type": "code",
   "execution_count": 31,
   "metadata": {},
   "outputs": [],
   "source": [
    "def make_turbo(out_dir = 'psix_turbo/', granularity = 0.01, max_mrna = 20, capture_efficiency=0.1, min_probability=0.01):\n",
    "    if not os.path.isdir(out_dir):\n",
    "        os.mkdir(out_dir)\n",
    "    observed_range = np.arange(0, 1+granularity, granularity)\n",
    "    true_range = np.arange(granularity, 1, granularity)\n",
    "    mrna_range = np.arange(1, max_mrna+1)\n",
    "    \n",
    "    for mrna in tqdm(mrna_range, leave=True, position=0):\n",
    "        mrna_df = pd.DataFrame(np.ones((len(observed_range), len(true_range)))*min_probability, \n",
    "                               index=observed_range, columns=true_range)\n",
    "        for observed_psi in observed_range:\n",
    "            for true_psi in true_range:\n",
    "                probability = probability_psi_observation(observed_psi, true_psi, capture_efficiency, mrna)\n",
    "                mrna_df.loc[observed_psi, true_psi] = np.max((mrna_df.loc[observed_psi, true_psi], probability))\n",
    "\n",
    "        mrna_df.to_csv(out_dir + 'psix_turbo_' + str(mrna)+'.tab.gz', sep='\\t', index=True, header=True)"
   ]
  },
  {
   "cell_type": "code",
   "execution_count": 32,
   "metadata": {},
   "outputs": [
    {
     "name": "stderr",
     "output_type": "stream",
     "text": [
      "100%|██████████| 20/20 [01:49<00:00,  5.46s/it]\n"
     ]
    }
   ],
   "source": [
    "train_turbo()"
   ]
  },
  {
   "cell_type": "code",
   "execution_count": 1,
   "metadata": {},
   "outputs": [],
   "source": [
    "def load_turbo(turbo_dir = 'psix_turbo/'):\n",
    "#     turbo_files = os.listdir(turbo_dir)\n",
    "    turbo_files = ['psix_turbo_'+str(i)+'.tab.gz' for i in range(1, 21)]\n",
    "#     print(turbo_files)\n",
    "    turbo_dict = []\n",
    "    for x in tqdm(turbo_files, position=0, leave=True):\n",
    "        mrna_counts = int(x.split('.')[0].split('_')[-1])\n",
    "        turbo_table = np.array(pd.read_csv(turbo_dir + x, sep='\\t', index_col=0))\n",
    "        turbo_dict.append(turbo_table)\n",
    "    return turbo_dict"
   ]
  },
  {
   "cell_type": "code",
   "execution_count": 3,
   "metadata": {},
   "outputs": [
    {
     "name": "stderr",
     "output_type": "stream",
     "text": [
      "100%|██████████| 20/20 [00:00<00:00, 59.33it/s]\n"
     ]
    }
   ],
   "source": [
    "turbo_dict = load_turbo()"
   ]
  },
  {
   "cell_type": "code",
   "execution_count": 10,
   "metadata": {},
   "outputs": [
    {
     "data": {
      "text/plain": [
       "0.01"
      ]
     },
     "execution_count": 10,
     "metadata": {},
     "output_type": "execute_result"
    }
   ],
   "source": [
    "turbo_dict[19].min()"
   ]
  },
  {
   "cell_type": "code",
   "execution_count": 25,
   "metadata": {},
   "outputs": [],
   "source": [
    "def get_psi_10X(SJ_table_name, minJR=1, minCell=1, drop_duplicates = False):\n",
    "    '''\n",
    "    \n",
    "    This functions splits this table into one individual for\n",
    "    each junction type. It additionally creates a PSI table\n",
    "    based on PSI = (I1 + I2) / ((I1 + I2) + 2*SE)\n",
    "    \n",
    "    Input:\n",
    "    - SJ_counts_table is a pandas dataframe, with rows corresponding\n",
    "      to individual splicing junctions, and columns corresponding to\n",
    "      single cells.\n",
    "    \n",
    "      The format of the index is:\n",
    "      Gene_X_SJ\n",
    "      Where Gene correspond to the gene where the splicing event\n",
    "      is present. X is a number assigned to one particulat ASE. \n",
    "      NMD events have additionally _nmdSE_ between Gene and X.\n",
    "      SJ corresponds to I1 (included 1), I2 (included 2) or SE\n",
    "      (skipped exon).\n",
    "    \n",
    "    - minCell (int) is the minimum number of cells that are required\n",
    "      to have at least minJR reads.\n",
    "    \n",
    "    - minJR (int) determines the minimum number of reads required on\n",
    "      at least minCell cells for a junction to be acceptable.\n",
    "    \n",
    "    Output:\n",
    "    - I1_counts (DF) Counts for one Included SJ\n",
    "    - I2_counts (DF) Counts for the other Included SJ \n",
    "    - SE_counts (DF) Counts for Skipped Exon SJ \n",
    "    - PSI_table (DF) As in name.\n",
    "    - total_counts (DF) SE + (I1 + I2)\n",
    "    \n",
    "    '''\n",
    "    \n",
    "    if drop_duplicates:\n",
    "        SJ_counts_table = pd.read_csv(SJ_table_name, sep='\\t', index_col=0).drop_duplicates('last')\n",
    "    else:\n",
    "        SJ_counts_table = pd.read_csv(SJ_table_name, sep='\\t', index_col=0)\n",
    "    \n",
    "    \n",
    "    events = sorted(set([x[:-3] for x in SJ_counts_table.index]))\n",
    "    \n",
    "    i1_events = [x + '_I1' for x in events]\n",
    "    I1_table = SJ_counts_table.loc[i1_events]\n",
    "    I1_table.index = events\n",
    "    \n",
    "    i2_events = [x + '_I2' for x in events]\n",
    "    I2_table = SJ_counts_table.loc[i2_events]\n",
    "    I2_table.index = events\n",
    "    \n",
    "    se_events = [x + '_SE' for x in events]\n",
    "    SE_table = SJ_counts_table.loc[se_events]\n",
    "    SE_table.index = events\n",
    "    \n",
    "    I1_filt = I1_table.index[(I1_table > minJR).sum(axis=1) > minCell]\n",
    "    I2_filt = I2_table.index[(I2_table > minJR).sum(axis=1) > minCell]\n",
    "    SE_filt = SE_table.index[(SE_table > minJR).sum(axis=1) > minCell]\n",
    "    \n",
    "    filtered_events = I1_filt & I2_filt & SE_filt\n",
    "    \n",
    "    I1_table = I1_table.loc[filtered_events]\n",
    "    I2_table = I2_table.loc[filtered_events]\n",
    "    SE_table = SE_table.loc[filtered_events]\n",
    "    \n",
    "    I_table = pd.concat([I1_table, I2_table]).max(level=0)\n",
    "    \n",
    "    PSI_table = I_table /(SE_table + I_table)\n",
    "    total_counts = SE_table + I2_table\n",
    "\n",
    "    return PSI_table, total_counts"
   ]
  },
  {
   "cell_type": "code",
   "execution_count": 23,
   "metadata": {},
   "outputs": [
    {
     "data": {
      "text/plain": [
       "(     0    1    2\n",
       " 0  0.0  0.0  0.0\n",
       " 1  0.0  0.0  0.0\n",
       " 2  0.0  0.0  0.0,\n",
       "      0    1    2\n",
       " 0  1.0  1.0  1.0\n",
       " 1  1.0  1.0  1.0\n",
       " 2  1.0  1.0  1.0)"
      ]
     },
     "execution_count": 23,
     "metadata": {},
     "output_type": "execute_result"
    }
   ],
   "source": [
    "(pd.DataFrame(np.zeros((3, 3))), pd.DataFrame(np.ones((3, 3))))"
   ]
  },
  {
   "cell_type": "code",
   "execution_count": 26,
   "metadata": {},
   "outputs": [],
   "source": [
    "SE_counts = get_psi_10X(SJ_table_name, \n",
    "                          minJR=1, minCell=1, drop_duplicates = False)"
   ]
  },
  {
   "cell_type": "code",
   "execution_count": 29,
   "metadata": {},
   "outputs": [
    {
     "name": "stderr",
     "output_type": "stream",
     "text": [
      "/mnt/lareaulab/cfbuenabadn/anaconda3/lib/python3.7/site-packages/numpy/lib/histograms.py:839: RuntimeWarning: invalid value encountered in greater_equal\n",
      "  keep = (tmp_a >= first_edge)\n",
      "/mnt/lareaulab/cfbuenabadn/anaconda3/lib/python3.7/site-packages/numpy/lib/histograms.py:840: RuntimeWarning: invalid value encountered in less_equal\n",
      "  keep &= (tmp_a <= last_edge)\n"
     ]
    },
    {
     "data": {
      "text/plain": [
       "(array([148.,   0.,   0.,   2.,   0.,  17.,   1.,   0.,   0., 779.]),\n",
       " array([0. , 0.1, 0.2, 0.3, 0.4, 0.5, 0.6, 0.7, 0.8, 0.9, 1. ]),\n",
       " <a list of 10 Patch objects>)"
      ]
     },
     "execution_count": 29,
     "metadata": {},
     "output_type": "execute_result"
    },
    {
     "data": {
      "image/png": "[encoded data removed]",
      "text/plain": [
       "<Figure size 432x288 with 1 Axes>"
      ]
     },
     "metadata": {
      "needs_background": "light"
     },
     "output_type": "display_data"
    }
   ],
   "source": [
    "plt.hist(SE_counts[0].iloc[0])"
   ]
  },
  {
   "cell_type": "code",
   "execution_count": 30,
   "metadata": {},
   "outputs": [
    {
     "data": {
      "text/plain": [
       "(array([1.0384e+04, 0.0000e+00, 0.0000e+00, 5.0400e+02, 0.0000e+00,\n",
       "        0.0000e+00, 1.2000e+01, 0.0000e+00, 0.0000e+00, 2.0000e+00]),\n",
       " array([0. , 0.3, 0.6, 0.9, 1.2, 1.5, 1.8, 2.1, 2.4, 2.7, 3. ]),\n",
       " <a list of 10 Patch objects>)"
      ]
     },
     "execution_count": 30,
     "metadata": {},
     "output_type": "execute_result"
    },
    {
     "data": {
      "image/png": "[encoded data removed]",
      "text/plain": [
       "<Figure size 432x288 with 1 Axes>"
      ]
     },
     "metadata": {
      "needs_background": "light"
     },
     "output_type": "display_data"
    }
   ],
   "source": [
    "plt.hist(SE_counts[1].iloc[0])"
   ]
  },
  {
   "cell_type": "code",
   "execution_count": 35,
   "metadata": {},
   "outputs": [
    {
     "data": {
      "text/plain": [
       "(array([21.,  9.,  4.,  4.,  9.,  7., 13.,  7., 16., 18.]),\n",
       " array([0.        , 0.09990827, 0.19981655, 0.29972482, 0.39963309,\n",
       "        0.49954137, 0.59944964, 0.69935792, 0.79926619, 0.89917446,\n",
       "        0.99908274]),\n",
       " <a list of 10 Patch objects>)"
      ]
     },
     "execution_count": 35,
     "metadata": {},
     "output_type": "execute_result"
    },
    {
     "data": {
      "image/png": "[encoded data removed]",
      "text/plain": [
       "<Figure size 432x288 with 1 Axes>"
      ]
     },
     "metadata": {
      "needs_background": "light"
     },
     "output_type": "display_data"
    }
   ],
   "source": [
    "plt.hist(SE_counts[0].isna().mean(axis=1))"
   ]
  },
  {
   "cell_type": "code",
   "execution_count": null,
   "metadata": {},
   "outputs": [],
   "source": [
    "def get_neighbors_turbo()"
   ]
  },
  {
   "cell_type": "code",
   "execution_count": 18,
   "metadata": {},
   "outputs": [],
   "source": [
    "def compute_weight(d, sigma):\n",
    "    return np.exp(-(d**2)/(sigma**2)) \n",
    "\n",
    "\n",
    "def compute_cell_metric_2(\n",
    "    manifold, \n",
    "    n_neighbors=100, \n",
    "    weight_metric = True,\n",
    "    remove_self = True\n",
    "):\n",
    "    \n",
    "    \n",
    "    cells = manifold.index\n",
    "    n_cells = len(cells)\n",
    "    \n",
    "    knn_neighbors = NearestNeighbors(n_neighbors=n_neighbors+1).fit(manifold)\n",
    "    distances, indices = knn_neighbors.kneighbors(manifold)\n",
    "    \n",
    "    \n",
    "    \n",
    "    neighbor_indices = pd.DataFrame(indices, index=cells)\n",
    "    \n",
    "    weights = np.ones((len(cells), (n_neighbors+1)))\n",
    "    \n",
    "    for i in tqdm(range(len(latent.index)), position=0, leave=True):\n",
    "        sigma = np.max(distances[i])\n",
    "        for j in range(1, len(distances[i])):\n",
    "            d = distances[i][j]\n",
    "            w = compute_weight(d, sigma)\n",
    "            weights[i, j] = w\n",
    "        \n",
    "    cell_metric = (indices, weights)\n",
    "    return cell_metric"
   ]
  },
  {
   "cell_type": "code",
   "execution_count": 19,
   "metadata": {},
   "outputs": [],
   "source": [
    "latent = pd.read_csv('~/psix_project/analysis_psix/mouse_brain_development/data/preprocess/tables/pc2_rd.tab.gz', \n",
    "                     sep='\\t', index_col=0)"
   ]
  },
  {
   "cell_type": "code",
   "execution_count": 20,
   "metadata": {},
   "outputs": [],
   "source": [
    "from sklearn.neighbors import NearestNeighbors\n",
    "from tqdm import tqdm \n",
    "\n",
    "knn_neighbors = NearestNeighbors(n_neighbors=20+1).fit(latent)\n",
    "distances, indices = knn_neighbors.kneighbors(latent)\n",
    "weights = np.ones((len(latent.index), (20+1)))"
   ]
  },
  {
   "cell_type": "code",
   "execution_count": 21,
   "metadata": {},
   "outputs": [
    {
     "name": "stderr",
     "output_type": "stream",
     "text": [
      "100%|██████████| 1067/1067 [00:00<00:00, 6388.89it/s]\n"
     ]
    }
   ],
   "source": [
    "for i in tqdm(range(len(latent.index)), position=0, leave=True):\n",
    "    sigma = np.max(distances[i])\n",
    "    for j in range(1, len(distances[i])):\n",
    "        #cell_j = indices[i][j]\n",
    "        d = distances[i][j]\n",
    "        w = compute_weight(d, sigma)\n",
    "        #w = np.exp(-(d**2)/(sigma**2))        \n",
    "        weights[i, j] = w"
   ]
  },
  {
   "cell_type": "code",
   "execution_count": 22,
   "metadata": {},
   "outputs": [],
   "source": [
    "def compute_weight(d, sigma):\n",
    "    return np.exp(-(d**2)/(sigma**2)) \n"
   ]
  },
  {
   "cell_type": "code",
   "execution_count": 23,
   "metadata": {},
   "outputs": [
    {
     "name": "stderr",
     "output_type": "stream",
     "text": [
      "100%|██████████| 1067/1067 [00:00<00:00, 1523.36it/s]\n"
     ]
    }
   ],
   "source": [
    "cell_metric = compute_cell_metric_2(\n",
    "    latent, \n",
    "    n_neighbors=100, \n",
    "    weight_metric = True\n",
    ")"
   ]
  },
  {
   "cell_type": "code",
   "execution_count": 8,
   "metadata": {},
   "outputs": [
    {
     "data": {
      "text/plain": [
       "(1067, 101)"
      ]
     },
     "execution_count": 8,
     "metadata": {},
     "output_type": "execute_result"
    }
   ],
   "source": [
    "cell_metric[0].shape"
   ]
  },
  {
   "cell_type": "code",
   "execution_count": 12,
   "metadata": {},
   "outputs": [],
   "source": [
    "from numba import jit, njit\n",
    "\n",
    "@jit(nopython=True)\n",
    "def get_arrays(observed_psi_array, mrna_obs_array, cell_metric):\n",
    "    psi_o_array = []\n",
    "    psi_a_array = []\n",
    "    mrna_array = []\n",
    "    for i in range(len(observed_psi_array)):\n",
    "        psi_o = observed_psi_array[i]\n",
    "        if not np.isnan(psi_o):\n",
    "            \n",
    "            psi_o_array.append(psi_o)\n",
    "            mrna_array.append(mrna_obs_array[i])\n",
    "            \n",
    "            neighbors = cell_metric[0][i]\n",
    "            weights = cell_metric[1][i]\n",
    "\n",
    "            psi_sum = 0\n",
    "            weight_sum = 0\n",
    "            for j in range(1, len(neighbors)):\n",
    "                psi_n = observed_psi_array[neighbors[j]]\n",
    "                if not np.isnan(psi_n):\n",
    "                    psi_sum += (psi_n * weights[j])\n",
    "                    weight_sum += weights[j]\n",
    "            if weight_sum > 0:\n",
    "                psi_a_array.append(psi_sum/weight_sum)\n",
    "            else:\n",
    "                psi_a_array.append(np.nan)\n",
    "    return psi_o_array, psi_a_array, mrna_array\n",
    "        "
   ]
  },
  {
   "cell_type": "code",
   "execution_count": 11,
   "metadata": {},
   "outputs": [],
   "source": [
    "psi = pd.read_csv('~/psix_project/analysis_psix/mouse_brain_development/data/preprocess/tables/psi.tab.gz', \n",
    "                  sep='\\t', index_col=0)\n",
    "mrna = pd.read_csv('~/psix_project/analysis_psix/mouse_brain_development/data/preprocess/tables/mrna_per_event.tab.gz', \n",
    "                  sep='\\t', index_col=0)"
   ]
  },
  {
   "cell_type": "code",
   "execution_count": 29,
   "metadata": {},
   "outputs": [
    {
     "data": {
      "text/plain": [
       "[1, 8, 4, 7, 2, 0, 5, 9, 3, 6]"
      ]
     },
     "execution_count": 29,
     "metadata": {},
     "output_type": "execute_result"
    }
   ],
   "source": [
    "from sklearn.utils import shuffle\n",
    "\n",
    "shuffle(range(10))"
   ]
  },
  {
   "cell_type": "code",
   "execution_count": 13,
   "metadata": {},
   "outputs": [],
   "source": [
    "from sklearn.utils import shuffle\n",
    "\n",
    "def psix_score_2(\n",
    "    exon_psi_array, \n",
    "    exon_mrna_array, \n",
    "    cell_metric, \n",
    "    capture_efficiency = 0.1, \n",
    "    randomize = False,  \n",
    "    min_probability = 0.01,\n",
    "    seed=0\n",
    "):\n",
    "    \n",
    "#     try:\n",
    "    #cell_list = exon_psi_array#.dropna().index\n",
    "\n",
    "#     if randomize:\n",
    "#         np.random.seed(seed)\n",
    "#         shuffled_cells = shuffle(cell_list)\n",
    "\n",
    "#     else:\n",
    "#         shuffled_cells = cell_list\n",
    "\n",
    "#     observed_psi_array = np.array(exon_psi_array)\n",
    "\n",
    "    ncells = len(exon_psi_array)\n",
    "\n",
    "    if randomize:\n",
    "        np.random.seed(seed)\n",
    "        shuffled_cells = shuffle(range(ncells))\n",
    "        exon_psi_array = exon_psi_array[shuffled_cells]\n",
    "        exon_mrna_array = exon_mrna_array[shuffled_cells]\n",
    "\n",
    "\n",
    "    observed_psi_array, neighborhood_psi_array, mrna_array = get_arrays(exon_psi_array, exon_mrna_array, cell_metric)\n",
    "    \n",
    "    mrna_array = np.array([1 if ((x > 0.1) and (x <= 1)) else x for x in mrna_array])\n",
    "    mrna_array = np.round(mrna_array).astype(int)\n",
    "\n",
    "    total_cells = round((len(observed_psi_array) - np.sum(mrna_array == 0)))\n",
    "\n",
    "    if total_cells <= 0:\n",
    "        return np.nan\n",
    "\n",
    "    global_psi = np.nanmean(observed_psi_array)\n",
    "    \n",
    "#     return observed_psi_array, neighborhood_psi_array, global_psi, mrna_array, total_cells\n",
    "\n",
    "    L_vec = psi_observations_scores_vec(\n",
    "        observed_psi_array, \n",
    "        neighborhood_psi_array, \n",
    "        global_psi, \n",
    "        mrna_array, \n",
    "        capture_efficiency, \n",
    "        min_probability\n",
    "    )\n",
    "\n",
    "    return np.sum(L_vec)/total_cells\n",
    "\n"
   ]
  },
  {
   "cell_type": "code",
   "execution_count": 14,
   "metadata": {},
   "outputs": [],
   "source": [
    "from time import time as t"
   ]
  },
  {
   "cell_type": "code",
   "execution_count": 130,
   "metadata": {},
   "outputs": [
    {
     "name": "stdout",
     "output_type": "stream",
     "text": [
      "0.02835687128972824\n",
      "0.31525659561157227\n"
     ]
    }
   ],
   "source": [
    "ma = np.array(mrna.loc['Mapt_3'].fillna(0))\n",
    "tiempo = t()\n",
    "print(psix_score_2(\n",
    "    np.array(psi.loc['Mapt_3']), \n",
    "    np.array(mrna.loc['Mapt_3'].fillna(0)), \n",
    "    cell_metric, \n",
    "    capture_efficiency = 0.1, \n",
    "    randomize = True,  \n",
    "    min_probability = 0.01,\n",
    "    seed=11\n",
    "))\n",
    "print(t()-tiempo)\n"
   ]
  },
  {
   "cell_type": "code",
   "execution_count": 34,
   "metadata": {},
   "outputs": [
    {
     "name": "stdout",
     "output_type": "stream",
     "text": [
      "1.8879379097869147\n",
      "0.27350497245788574\n"
     ]
    }
   ],
   "source": [
    "ma = np.array(mrna.loc['Mapt_3'].fillna(0))\n",
    "tiempo = t()\n",
    "print(psix_score_2(\n",
    "    np.array(psi.loc['Mapt_3']), \n",
    "    ma, \n",
    "    cell_metric, \n",
    "    capture_efficiency = 0.1, \n",
    "    randomize = False,  \n",
    "    min_probability = 0.01,\n",
    "    seed=0\n",
    "))\n",
    "print(t()-tiempo)\n"
   ]
  },
  {
   "cell_type": "code",
   "execution_count": 240,
   "metadata": {},
   "outputs": [
    {
     "data": {
      "text/plain": [
       "1067"
      ]
     },
     "execution_count": 240,
     "metadata": {},
     "output_type": "execute_result"
    }
   ],
   "source": [
    "len(np.array(mrna.loc['Abat_3']))"
   ]
  },
  {
   "cell_type": "code",
   "execution_count": 241,
   "metadata": {},
   "outputs": [
    {
     "data": {
      "text/plain": [
       "1067"
      ]
     },
     "execution_count": 241,
     "metadata": {},
     "output_type": "execute_result"
    }
   ],
   "source": [
    "len(ma)"
   ]
  },
  {
   "cell_type": "code",
   "execution_count": 16,
   "metadata": {},
   "outputs": [
    {
     "name": "stderr",
     "output_type": "stream",
     "text": [
      "100%|██████████| 1067/1067 [00:23<00:00, 45.90it/s]\n"
     ]
    }
   ],
   "source": [
    "from cell_metric import *\n",
    "cc_metric = compute_cell_metric(\n",
    "    latent, \n",
    "    n_neighbors=100, \n",
    "    weight_metric = True\n",
    ")"
   ]
  },
  {
   "cell_type": "code",
   "execution_count": 42,
   "metadata": {},
   "outputs": [
    {
     "name": "stdout",
     "output_type": "stream",
     "text": [
      "1.8879379097869164\n",
      "0.2982597351074219\n"
     ]
    }
   ],
   "source": [
    "tiempo = t()\n",
    "print(psix_score_1(\n",
    "    psi.loc['Mapt_3'], \n",
    "    mrna.loc['Mapt_3'], \n",
    "    cc_metric, \n",
    "    capture_efficiency = 0.1, \n",
    "    randomize = False,  \n",
    "    min_probability = 0.01,\n",
    "    seed=0\n",
    "))\n",
    "print(t()-tiempo)\n"
   ]
  },
  {
   "cell_type": "code",
   "execution_count": 49,
   "metadata": {},
   "outputs": [
    {
     "name": "stdout",
     "output_type": "stream",
     "text": [
      "0.0724216174688275\n",
      "0.30554890632629395\n"
     ]
    }
   ],
   "source": [
    "tiempo = t()\n",
    "print(psix_score_1(\n",
    "    psi.loc['Mapt_3'], \n",
    "    mrna.loc['Mapt_3'], \n",
    "    cc_metric, \n",
    "    capture_efficiency = 0.1, \n",
    "    randomize = True,  \n",
    "    min_probability = 0.01,\n",
    "    seed=12\n",
    "))\n",
    "print(t()-tiempo)\n"
   ]
  },
  {
   "cell_type": "code",
   "execution_count": 160,
   "metadata": {},
   "outputs": [
    {
     "data": {
      "text/plain": [
       "Aamdc_10         0.557638\n",
       "Aamdc_9          0.589503\n",
       "Aasdhppt_2       0.545455\n",
       "Abat_3           0.649485\n",
       "Abca3_4          0.691659\n",
       "                   ...   \n",
       "Zscan18_1        0.666354\n",
       "Zyx_1            0.589503\n",
       "l7Rn6_1          0.360825\n",
       "l7Rn6_3          0.492034\n",
       "l7Rn6_nmdSE_1    0.425492\n",
       "Length: 2087, dtype: float64"
      ]
     },
     "execution_count": 160,
     "metadata": {},
     "output_type": "execute_result"
    }
   ],
   "source": [
    "psi.isna().mean(axis=1)"
   ]
  },
  {
   "cell_type": "code",
   "execution_count": 17,
   "metadata": {},
   "outputs": [],
   "source": [
    "def psix_score_1(\n",
    "    exon_psi_array, \n",
    "    exon_mrna_array, \n",
    "    cell_metric, \n",
    "    capture_efficiency = 0.1, \n",
    "    randomize = False,  \n",
    "    min_probability = 0.01,\n",
    "    seed=0\n",
    "):\n",
    "    \n",
    "#     try:\n",
    "    cell_list = exon_psi_array.dropna().index\n",
    "\n",
    "    if randomize:\n",
    "        np.random.seed(seed)\n",
    "        shuffled_cells = shuffle(cell_list)\n",
    "\n",
    "    else:\n",
    "        shuffled_cells = cell_list\n",
    "\n",
    "    observed_psi_array = np.array(exon_psi_array.loc[shuffled_cells])\n",
    "\n",
    "    mrna_array = np.array([1 if ((x > 0.1) and (x <= 1)) else x for x in exon_mrna_array.loc[shuffled_cells]])\n",
    "    mrna_array = np.round(mrna_array).astype(int)\n",
    "\n",
    "    total_cells = round((len(cell_list) - np.sum(mrna_array == 0)))\n",
    "\n",
    "    if total_cells <= 0:\n",
    "        return np.nan\n",
    "\n",
    "    neighborhood_psi_array = np.array(\n",
    "    np.array(pd.DataFrame(\n",
    "        np.array(cell_metric.loc[cell_list, cell_list])*observed_psi_array).sum(axis=1)\n",
    "    )/np.array(cell_metric.loc[cell_list, cell_list].sum(axis=1)))\n",
    "\n",
    "    global_psi = np.mean(observed_psi_array)\n",
    "    \n",
    "#     return observed_psi_array, neighborhood_psi_array, global_psi, mrna_array, total_cells\n",
    "\n",
    "    L_vec = psi_observations_scores_vec(\n",
    "        observed_psi_array, \n",
    "        neighborhood_psi_array, \n",
    "        global_psi, \n",
    "        mrna_array, \n",
    "        capture_efficiency, \n",
    "        min_probability\n",
    "    )\n",
    "\n",
    "    return np.sum(L_vec)/total_cells"
   ]
  },
  {
   "cell_type": "code",
   "execution_count": 30,
   "metadata": {},
   "outputs": [
    {
     "name": "stdout",
     "output_type": "stream",
     "text": [
      "Processing /mnt/lareaulab/cfbuenabadn/.cache/pip/wheels/72/b5/2c/5c95c6736cf5068a92a7749517d3064a973f5e23cbfc3532ac/numba_special-0.2.0-cp37-cp37m-linux_x86_64.whl\n",
      "Requirement already satisfied: numba in /mnt/lareaulab/cfbuenabadn/.local/lib/python3.7/site-packages (from numba_special) (0.49.0)\n",
      "Requirement already satisfied: scipy in /mnt/lareaulab/cfbuenabadn/.local/lib/python3.7/site-packages (from numba_special) (1.4.1)\n",
      "Requirement already satisfied: setuptools in /mnt/lareaulab/cfbuenabadn/anaconda3/lib/python3.7/site-packages (from numba->numba_special) (45.2.0.post20200210)\n",
      "Requirement already satisfied: llvmlite<=0.33.0.dev0,>=0.31.0.dev0 in /mnt/lareaulab/cfbuenabadn/.local/lib/python3.7/site-packages (from numba->numba_special) (0.32.0)\n",
      "Requirement already satisfied: numpy>=1.15 in /mnt/lareaulab/cfbuenabadn/anaconda3/lib/python3.7/site-packages (from numba->numba_special) (1.18.1)\n",
      "Installing collected packages: numba-special\n",
      "Successfully installed numba-special-0.2.0\n"
     ]
    }
   ],
   "source": [
    "! pip install numba_special"
   ]
  },
  {
   "cell_type": "code",
   "execution_count": 107,
   "metadata": {},
   "outputs": [
    {
     "data": {
      "text/plain": [
       "0.99"
      ]
     },
     "execution_count": 107,
     "metadata": {},
     "output_type": "execute_result"
    }
   ],
   "source": [
    "turbo_dict[0][100, 98]"
   ]
  },
  {
   "cell_type": "code",
   "execution_count": 82,
   "metadata": {},
   "outputs": [],
   "source": [
    "@jit(nopython=True)\n",
    "def psix_turbo(psi_o, psi_a, mrna, turbo_dict):\n",
    "    \n",
    "    psi_o_idx = np.int(np.round(psi_o*100))\n",
    "    psi_a_idx = np.int(np.round(psi_a*100))-1\n",
    "    mrna_idx = mrna-1\n",
    "    \n",
    "    if psi_a_idx < 0:\n",
    "        psi_a_idx = 0\n",
    "    elif psi_a_idx > 98:\n",
    "        psi_a_idx = 98\n",
    "    psix_score_out = turbo_dict[mrna_idx][psi_o_idx, psi_a_idx]\n",
    "    return psix_score_out\n",
    "\n",
    "@jit(nopython=True)\n",
    "def L_score_turbo(psi_o, psi_a, psi_n, mrna, turbo_dict):\n",
    "    L_a = np.log(psix_turbo(psi_o, psi_a, mrna, turbo_dict))\n",
    "    L_null = np.log(psix_turbo(psi_o, psi_n, mrna, turbo_dict))\n",
    "    \n",
    "    return L_a - L_null\n",
    "\n",
    "@jit(nopython=True)\n",
    "def L_vector(observed_psi_array, neighborhood_psi_array, mrna_array, global_psi, turbo_dict):\n",
    "    L_vec = []\n",
    "    \n",
    "    for i in range(len(observed_psi_array)):\n",
    "        psi_o = observed_psi_array[i]\n",
    "        psi_a = neighborhood_psi_array[i]\n",
    "        mrna = mrna_array[i]\n",
    "        L = L_score_turbo(psi_o, psi_a, global_psi, mrna, turbo_dict)\n",
    "        L_vec.append(L)\n",
    "    return L_vec"
   ]
  },
  {
   "cell_type": "code",
   "execution_count": null,
   "metadata": {},
   "outputs": [],
   "source": []
  },
  {
   "cell_type": "code",
   "execution_count": 84,
   "metadata": {},
   "outputs": [],
   "source": [
    "from sklearn.utils import shuffle\n",
    "\n",
    "# @jit#(nopython=True)\n",
    "def psix_score_turbo(\n",
    "    exon_psi_array, \n",
    "    exon_mrna_array, \n",
    "    cell_metric, \n",
    "    turbo_dict,\n",
    "    capture_efficiency = 0.1, \n",
    "    randomize = False,  \n",
    "    min_probability = 0.01,\n",
    "    seed=0\n",
    "):\n",
    "    \n",
    "\n",
    "    mrna_max = len(turbo_dict)\n",
    "    \n",
    "    ncells = len(exon_psi_array)\n",
    "\n",
    "    if randomize:\n",
    "        np.random.seed(seed)\n",
    "        shuffled_cells = shuffle(range(ncells))\n",
    "        exon_psi_array = exon_psi_array[shuffled_cells]\n",
    "        exon_mrna_array = exon_mrna_array[shuffled_cells]\n",
    "\n",
    "\n",
    "    observed_psi_array, neighborhood_psi_array, mrna_array = get_arrays(exon_psi_array, exon_mrna_array, cell_metric)\n",
    "    \n",
    "    mrna_array = np.array([1 if ((x > 0.1) and (x <= 1)) else x for x in mrna_array])\n",
    "    mrna_array = np.round(mrna_array).astype(int)\n",
    "    \n",
    "    mrna_array = [mrna_max if x >= mrna_max else x for x in mrna_array]\n",
    "\n",
    "    total_cells = round((len(observed_psi_array) - np.sum(mrna_array == 0)))\n",
    "\n",
    "    if total_cells <= 0:\n",
    "        return np.nan\n",
    "\n",
    "    global_psi = np.nanmean(observed_psi_array)\n",
    "    \n",
    "    L_vec = L_vector(observed_psi_array, neighborhood_psi_array, mrna_array, global_psi, turbo_dict)\n",
    "    \n",
    "    \n",
    "    \n",
    "    return np.sum(L_vec)/total_cells\n",
    "\n"
   ]
  },
  {
   "cell_type": "code",
   "execution_count": 86,
   "metadata": {},
   "outputs": [
    {
     "name": "stdout",
     "output_type": "stream",
     "text": [
      "-0.02184788617700691\n",
      "0.008560657501220703\n"
     ]
    }
   ],
   "source": [
    "tiempo = t()\n",
    "\n",
    "print(psix_score_turbo(\n",
    "    np.array(psi.loc['Snx8_1']), \n",
    "    np.array(mrna.loc['Snx8_1'].fillna(0)), \n",
    "    cell_metric, \n",
    "    turbo_dict,\n",
    "    capture_efficiency = 0.1, \n",
    "    randomize = False,  \n",
    "    min_probability = 0.01,\n",
    "    seed=102\n",
    "))\n",
    "\n",
    "print(t()-tiempo)\n"
   ]
  },
  {
   "cell_type": "code",
   "execution_count": 61,
   "metadata": {},
   "outputs": [
    {
     "name": "stdout",
     "output_type": "stream",
     "text": [
      "#######\n",
      "-737.3909146645778\n",
      "1.0\n",
      "1.0\n",
      "4\n",
      "0.8280949664750076\n",
      "#######\n",
      "-737.3909146645778\n",
      "1.0\n",
      "1.0\n",
      "4\n",
      "0.8280949664750076\n"
     ]
    }
   ],
   "source": [
    "for idx in range(len(x[0])):\n",
    "    if x[0][idx] <= -40:\n",
    "        print('#######')\n",
    "        print(x[0][idx])\n",
    "        print(x[1][idx])\n",
    "        print(x[2][idx])\n",
    "        print(x[3][idx])\n",
    "        print(x[4])"
   ]
  },
  {
   "cell_type": "code",
   "execution_count": 69,
   "metadata": {},
   "outputs": [
    {
     "data": {
      "text/plain": [
       "-737.3909146645778"
      ]
     },
     "execution_count": 69,
     "metadata": {},
     "output_type": "execute_result"
    }
   ],
   "source": [
    "L_score_turbo(1, 1, 0.82809, 4, turbo_dict)"
   ]
  },
  {
   "cell_type": "code",
   "execution_count": 73,
   "metadata": {},
   "outputs": [
    {
     "data": {
      "text/plain": [
       "2.614e-321"
      ]
     },
     "execution_count": 73,
     "metadata": {},
     "output_type": "execute_result"
    }
   ],
   "source": [
    "psix_turbo(1, 1, 4, turbo_dict)"
   ]
  },
  {
   "cell_type": "code",
   "execution_count": null,
   "metadata": {},
   "outputs": [],
   "source": []
  },
  {
   "cell_type": "code",
   "execution_count": 81,
   "metadata": {},
   "outputs": [
    {
     "name": "stdout",
     "output_type": "stream",
     "text": [
      "hola\n"
     ]
    }
   ],
   "source": [
    "psi_o_idx = np.int(np.round(1*100))\n",
    "psi_a_idx = np.int(np.round(1*100))-1\n",
    "mrna_idx = 4-1\n",
    "\n",
    "if psi_a_idx < 0:\n",
    "    psi_a_idx = 0\n",
    "elif psi_a_idx > 98:\n",
    "    print('hola')\n",
    "    psi_a_idx = 98\n",
    "# psix_score_out = turbo_dict[mrna_idx][psi_o_idx, psi_a_idx]"
   ]
  },
  {
   "cell_type": "code",
   "execution_count": 80,
   "metadata": {},
   "outputs": [
    {
     "data": {
      "text/plain": [
       "99"
      ]
     },
     "execution_count": 80,
     "metadata": {},
     "output_type": "execute_result"
    }
   ],
   "source": [
    "psi_a_idx"
   ]
  },
  {
   "cell_type": "code",
   "execution_count": 43,
   "metadata": {},
   "outputs": [
    {
     "data": {
      "text/plain": [
       "<matplotlib.collections.PathCollection at 0x7f110baac450>"
      ]
     },
     "execution_count": 43,
     "metadata": {},
     "output_type": "execute_result"
    },
    {
     "data": {
      "image/png": "[encoded data removed]",
      "text/plain": [
       "<Figure size 432x288 with 1 Axes>"
      ]
     },
     "metadata": {
      "needs_background": "light"
     },
     "output_type": "display_data"
    }
   ],
   "source": [
    "plt.scatter(latent.PC_1, latent.PC_2, c=np.array(psi.loc['Snx8_1']))"
   ]
  },
  {
   "cell_type": "code",
   "execution_count": 48,
   "metadata": {},
   "outputs": [
    {
     "name": "stdout",
     "output_type": "stream",
     "text": [
      "-0.018061733021333973\n",
      "0.12092351913452148\n"
     ]
    }
   ],
   "source": [
    "tiempo = t()\n",
    "print(psix_score_2(\n",
    "    np.array(psi.loc['Snx8_1']), \n",
    "    np.array(mrna.loc['Snx8_1'].fillna(0)), \n",
    "    cell_metric, \n",
    "    capture_efficiency = 0.1, \n",
    "    randomize = False,  \n",
    "    min_probability = 0.01,\n",
    "    seed=1230\n",
    "))\n",
    "print(t()-tiempo)\n"
   ]
  },
  {
   "cell_type": "code",
   "execution_count": 27,
   "metadata": {},
   "outputs": [
    {
     "ename": "NameError",
     "evalue": "name 'psix_score_1' is not defined",
     "output_type": "error",
     "traceback": [
      "\u001b[0;31m---------------------------------------------------------------------------\u001b[0m",
      "\u001b[0;31mNameError\u001b[0m                                 Traceback (most recent call last)",
      "\u001b[0;32m<ipython-input-27-f200c92dc1f1>\u001b[0m in \u001b[0;36m<module>\u001b[0;34m\u001b[0m\n\u001b[1;32m      1\u001b[0m \u001b[0mtiempo\u001b[0m \u001b[0;34m=\u001b[0m \u001b[0mt\u001b[0m\u001b[0;34m(\u001b[0m\u001b[0;34m)\u001b[0m\u001b[0;34m\u001b[0m\u001b[0;34m\u001b[0m\u001b[0m\n\u001b[0;32m----> 2\u001b[0;31m print(psix_score_1(\n\u001b[0m\u001b[1;32m      3\u001b[0m     \u001b[0mpsi\u001b[0m\u001b[0;34m.\u001b[0m\u001b[0mloc\u001b[0m\u001b[0;34m[\u001b[0m\u001b[0;34m'Clta_4'\u001b[0m\u001b[0;34m]\u001b[0m\u001b[0;34m,\u001b[0m\u001b[0;34m\u001b[0m\u001b[0;34m\u001b[0m\u001b[0m\n\u001b[1;32m      4\u001b[0m     \u001b[0mmrna\u001b[0m\u001b[0;34m.\u001b[0m\u001b[0mloc\u001b[0m\u001b[0;34m[\u001b[0m\u001b[0;34m'Clta_4'\u001b[0m\u001b[0;34m]\u001b[0m\u001b[0;34m,\u001b[0m\u001b[0;34m\u001b[0m\u001b[0;34m\u001b[0m\u001b[0m\n\u001b[1;32m      5\u001b[0m     \u001b[0mcc_metric\u001b[0m\u001b[0;34m,\u001b[0m\u001b[0;34m\u001b[0m\u001b[0;34m\u001b[0m\u001b[0m\n",
      "\u001b[0;31mNameError\u001b[0m: name 'psix_score_1' is not defined"
     ]
    }
   ],
   "source": [
    "tiempo = t()\n",
    "print(psix_score_1(\n",
    "    psi.loc['Clta_4'], \n",
    "    mrna.loc['Clta_4'], \n",
    "    cc_metric, \n",
    "    capture_efficiency = 0.1, \n",
    "    randomize = False,  \n",
    "    min_probability = 0.01,\n",
    "    seed=0\n",
    "))\n",
    "print(t()-tiempo)\n"
   ]
  },
  {
   "cell_type": "code",
   "execution_count": 182,
   "metadata": {},
   "outputs": [
    {
     "data": {
      "text/plain": [
       "[9, 2, 3, 6, 8, 4, 1, 7, 5, 0]"
      ]
     },
     "execution_count": 182,
     "metadata": {},
     "output_type": "execute_result"
    }
   ],
   "source": [
    "np.random.choice(range(ncells), len(ncells), replace=False)"
   ]
  },
  {
   "cell_type": "code",
   "execution_count": 188,
   "metadata": {},
   "outputs": [
    {
     "data": {
      "text/plain": [
       "array([4, 7, 8, 1, 9, 6, 2, 5, 0, 3])"
      ]
     },
     "execution_count": 188,
     "metadata": {},
     "output_type": "execute_result"
    }
   ],
   "source": [
    "np.random.choice(range(10), 10, replace=False)"
   ]
  },
  {
   "cell_type": "code",
   "execution_count": 185,
   "metadata": {},
   "outputs": [],
   "source": [
    "np.random.shuffle([1, 2])"
   ]
  },
  {
   "cell_type": "code",
   "execution_count": null,
   "metadata": {},
   "outputs": [],
   "source": []
  }
 ],
 "metadata": {
  "kernelspec": {
   "display_name": "Python 3",
   "language": "python",
   "name": "python3"
  },
  "language_info": {
   "codemirror_mode": {
    "name": "ipython",
    "version": 3
   },
   "file_extension": ".py",
   "mimetype": "text/x-python",
   "name": "python",
   "nbconvert_exporter": "python",
   "pygments_lexer": "ipython3",
   "version": "3.7.6"
  }
 },
 "nbformat": 4,
 "nbformat_minor": 4
}
