{
 "cells": [
  {
   "cell_type": "code",
   "execution_count": 1,
   "metadata": {},
   "outputs": [
    {
     "name": "stderr",
     "output_type": "stream",
     "text": [
      "100%|██████████| 1197/1197 [00:49<00:00, 24.02it/s]\n",
      "100%|██████████| 488/488 [00:05<00:00, 88.46it/s]\n",
      "100%|██████████| 202/202 [00:02<00:00, 89.02it/s]\n"
     ]
    }
   ],
   "source": [
    "import numpy as np\n",
    "import pandas as pd\n",
    "from scipy import stats\n",
    "from scipy.special import expit, logit, comb\n",
    "from tqdm import tqdm\n",
    "import seaborn as sns\n",
    "import matplotlib.pyplot as plt\n",
    "from scipy.stats import pearsonr, spearmanr\n",
    "\n",
    "import sys\n",
    "sys.path.append('../utils/')\n",
    "import psix_functions as px\n",
    "%run -i '~/psix/data_analysis/analysis_utils.py'\n",
    "%run -i '~/sc_splicing_regulation/utils/utils_functions.py'"
   ]
  },
  {
   "cell_type": "code",
   "execution_count": 27,
   "metadata": {},
   "outputs": [],
   "source": [
    "# chen_kw2, chen_kw_1, chen_kw_25, chen_elife = get_elife_tests(chen_rd, chen_PSI, \n",
    "#                                                             chen_mrna_event, chen_psix, n_clusters = 5)"
   ]
  },
  {
   "cell_type": "code",
   "execution_count": 7,
   "metadata": {},
   "outputs": [],
   "source": [
    "chen_reads = pd.read_csv('~/data_sc_regulation/chen_extended/skipped_exons_SJreads.tab', sep='\\t',\n",
    "                            index_col = 0)\n",
    "chen_reads = chen_reads.loc[chen_PSI.index & chen_reads.index, chen_PSI.columns]\n",
    "\n",
    "chen_reads_adj = chen_reads/(1+chen_PSI)\n",
    "\n",
    "song_reads = pd.read_csv('~/data_sc_regulation/song/skipped_exons_SJreads.tab', sep='\\t',\n",
    "                            index_col = 0)\n",
    "song_reads = song_reads.loc[song_PSI.index, song_PSI.columns]\n",
    "\n",
    "song_reads_adj = song_reads/(1+song_PSI)\n",
    "\n",
    "tiklova_reads = pd.read_csv('~/data_sc_regulation/tiklova_extended/skipped_exons_SJreads.tab', sep='\\t',\n",
    "                            index_col = 0)\n",
    "tiklova_reads = tiklova_reads.loc[tiklova_PSI.index, tiklova_PSI.columns]\n",
    "\n",
    "tiklova_reads_adj = tiklova_reads/(1+tiklova_PSI)"
   ]
  },
  {
   "cell_type": "code",
   "execution_count": 2,
   "metadata": {},
   "outputs": [],
   "source": [
    "sys.path.insert(0, '/mnt/lareaulab/cfbuenabadn/sc_splicing_regulation/utils/')\n",
    "from utils_functions import *\n",
    "\n",
    "hubbard_pvals = pd.read_csv('~/sc_splicing_regulation/timeseries_neurogenesis/Hubbard_pvals.tab', sep='\\t', index_col=0)\n",
    "hubbard_fdr = pd.read_csv('~/sc_splicing_regulation/timeseries_neurogenesis/Hubbard_fdr.tab', sep='\\t', index_col=0)\n",
    "hubbard_psi = pd.read_csv('~/sc_splicing_regulation/timeseries_neurogenesis/Hubbard_psi.tab', sep='\\t', index_col=0)\n",
    "\n",
    "hubbard_ds = get_averages_bulk(hubbard_psi)\n",
    "chen_kw_scores = pd.read_csv('~/sc_splicing_regulation/sc_neurogenesis/chen_kw.tab', \n",
    "                                sep='\\t', index_col=0)\n",
    "\n",
    "song_bulk_pvals = pd.read_csv('~/sc_splicing_regulation/timeseries_neurogenesis/song_bulk_pvals.tab', sep='\\t', index_col=0)\n",
    "song_bulk_fdr = pd.read_csv('~/sc_splicing_regulation/timeseries_neurogenesis/song_bulk_fdr.tab', sep='\\t', index_col=0)\n",
    "song_bulk_psi = pd.read_csv('~/sc_splicing_regulation/timeseries_neurogenesis/song_bulk_psi.tab', sep='\\t', index_col=0)\n",
    "\n",
    "song_bulk_ds = get_averages_bulk(song_bulk_psi)\n",
    "song_kw_scores = pd.read_csv('~/sc_splicing_regulation/sc_neurogenesis/song_kw.tab', \n",
    "                                sep='\\t', index_col=0)\n",
    "\n",
    "weyn_pvals = pd.read_csv('~/sc_splicing_regulation/timeseries_neurogenesis/Weyn_pvals.tab', sep='\\t', index_col=0)\n",
    "weyn_fdr = pd.read_csv('~/sc_splicing_regulation/timeseries_neurogenesis/Weyn_fdr.tab', sep='\\t', index_col=0)\n",
    "weyn_psi = pd.read_csv('~/sc_splicing_regulation/timeseries_neurogenesis/Weyn_psi.tab', sep='\\t', index_col=0)\n",
    "\n",
    "weyn_ds = get_averages_bulk(weyn_psi)\n",
    "tiklova_kw_scores = pd.read_csv('~/sc_splicing_regulation/sc_neurogenesis/tiklova_neurogenesis_kw.tab', \n",
    "                                sep='\\t', index_col=0)"
   ]
  },
  {
   "cell_type": "code",
   "execution_count": 3,
   "metadata": {},
   "outputs": [],
   "source": [
    "tiklova_geary = pd.read_csv(\n",
    "    '~/sc_splicing_regulation/sc_neurogenesis/tiklova_neurogenesis_autocorr/tiklova_GearyC_k100.tab',\n",
    "    sep='\\t', index_col=0)\n",
    "chen_geary = pd.read_csv('~/sc_splicing_regulation/sc_neurogenesis/chen_autocor/chen_GearyC_k30.tab',\n",
    "    sep='\\t', index_col=0)\n",
    "song_geary = pd.read_csv('~/sc_splicing_regulation/sc_neurogenesis/song_autocor/song_GearyC_k30.tab',\n",
    "    sep='\\t', index_col=0)"
   ]
  },
  {
   "cell_type": "code",
   "execution_count": 10,
   "metadata": {},
   "outputs": [
    {
     "data": {
      "text/plain": [
       "<matplotlib.legend.Legend at 0x7fa68fa90c50>"
      ]
     },
     "execution_count": 10,
     "metadata": {},
     "output_type": "execute_result"
    },
    {
     "data": {
      "image/png": "[encoded data removed]",
      "text/plain": [
       "<Figure size 432x288 with 1 Axes>"
      ]
     },
     "metadata": {
      "needs_background": "light"
     },
     "output_type": "display_data"
    }
   ],
   "source": [
    "from sklearn.metrics import precision_recall_curve\n",
    "from sklearn.metrics import roc_curve\n",
    "\n",
    "# figsize(7, 5)\n",
    "\n",
    "fig = plt.figure()\n",
    "ax  = plt.subplot(1,1,1)\n",
    "\n",
    "weyn_pos = weyn_fdr.index[(weyn_ds.max(axis=1) >= 0.2) & (weyn_fdr.min(axis=1) <= 0.05)]\n",
    "weyn_neg = weyn_fdr.index[(weyn_ds.max(axis=1) < 0.2) | (weyn_fdr.min(axis=1) > 0.05)]\n",
    "\n",
    "exons = tiklova_psix.index\n",
    "y1 = [1]*len(weyn_pos & exons) + [0]*len(weyn_neg & exons)\n",
    "L_score_y = list(tiklova_psix.loc[weyn_pos & exons].L_score) + list(tiklova_psix.loc[weyn_neg & exons].L_score)\n",
    "# psix_v2_y = list(tiklova_psix.loc[weyn_pos & exons].psix_v2) + list(tiklova_psix.loc[weyn_neg & exons].psix_v2)\n",
    "kw_y = list(tiklova_kw.loc[weyn_pos & exons].KW_score) + list(tiklova_kw.loc[weyn_neg & exons].KW_score)\n",
    "\n",
    "pre1, rec1, thres1 = precision_recall_curve(y1, L_score_y)\n",
    "# pre2, rec2, thres2 = precision_recall_curve(y1, psix_v2_y)\n",
    "pre3, rec3, thres3 = precision_recall_curve(y1, kw_y)\n",
    "\n",
    "plt.plot(rec1, pre1, c='navy', label='Psix v1')\n",
    "# plt.plot(rec2, pre2, c='forestgreen', label='Psix v2')\n",
    "plt.plot(rec3, pre3, c='darkorange', label='KW')\n",
    "\n",
    "plt.xlabel('Recall', fontsize=18)\n",
    "plt.ylabel('Precision', fontsize=18)\n",
    "\n",
    "ax.spines[\"right\"].set_visible(False)\n",
    "ax.spines[\"top\"].set_visible(False)\n",
    "ax.tick_params(labelsize=18, length=5)\n",
    "plt.title('Tiklova neurogenesis pre-rec curve', fontsize=18)\n",
    "plt.xlim([-0.05, 1.05])\n",
    "# plt.ylim([-0.05, 1.05])\n",
    "plt.legend(frameon=False, fontsize=18)"
   ]
  },
  {
   "cell_type": "code",
   "execution_count": 5,
   "metadata": {},
   "outputs": [
    {
     "data": {
      "text/plain": [
       "<matplotlib.legend.Legend at 0x7f2e69a4ddd0>"
      ]
     },
     "execution_count": 5,
     "metadata": {},
     "output_type": "execute_result"
    },
    {
     "data": {
      "image/png": "[encoded data removed]",
      "text/plain": [
       "<Figure size 432x288 with 1 Axes>"
      ]
     },
     "metadata": {
      "needs_background": "light"
     },
     "output_type": "display_data"
    }
   ],
   "source": [
    "from sklearn.metrics import precision_recall_curve\n",
    "from sklearn.metrics import roc_curve\n",
    "\n",
    "# figsize(7, 5)\n",
    "\n",
    "fig = plt.figure()\n",
    "ax  = plt.subplot(1,1,1)\n",
    "\n",
    "hubbard_pos = hubbard_fdr.index[(hubbard_ds.max(axis=1) >= 0.2) & (hubbard_fdr.min(axis=1) <= 0.05)]\n",
    "hubbard_neg = hubbard_fdr.index[(hubbard_ds.max(axis=1) < 0.2) | (hubbard_fdr.min(axis=1) > 0.05)]\n",
    "\n",
    "exons = chen_psix.index\n",
    "y1 = [1]*len(hubbard_pos & exons) + [0]*len(hubbard_neg & exons)\n",
    "L_score_y = list(chen_psix.loc[hubbard_pos & exons].L_score) + list(chen_psix.loc[hubbard_neg & exons].L_score)\n",
    "# psix_v2_y = list(chen_psix.loc[hubbard_pos & exons].psix_v2) + list(chen_psix.loc[hubbard_neg & exons].psix_v2)\n",
    "kw_y = list(chen_kw.loc[hubbard_pos & exons].KW_score) + list(chen_kw.loc[hubbard_neg & exons].KW_score)\n",
    "\n",
    "pre1, rec1, thres1 = precision_recall_curve(y1, L_score_y)\n",
    "# pre2, rec2, thres2 = precision_recall_curve(y1, psix_v2_y)\n",
    "pre3, rec3, thres3 = precision_recall_curve(y1, kw_y)\n",
    "\n",
    "plt.plot(rec1, pre1, c='navy', label='Psix v1')\n",
    "# plt.plot(rec2, pre2, c='forestgreen', label='Psix v2')\n",
    "plt.plot(rec3, pre3, c='darkorange', label='KW')\n",
    "\n",
    "plt.xlabel('Recall', fontsize=18)\n",
    "plt.ylabel('Precision', fontsize=18)\n",
    "\n",
    "ax.spines[\"right\"].set_visible(False)\n",
    "ax.spines[\"top\"].set_visible(False)\n",
    "ax.tick_params(labelsize=18, length=5)\n",
    "plt.title('chen neurogenesis pre-rec curve', fontsize=18)\n",
    "plt.xlim([-0.05, 1.05])\n",
    "# plt.ylim([-0.05, 1.05])\n",
    "plt.legend(frameon=False, fontsize=18)"
   ]
  },
  {
   "cell_type": "code",
   "execution_count": 6,
   "metadata": {},
   "outputs": [
    {
     "data": {
      "text/plain": [
       "<matplotlib.legend.Legend at 0x7f2e69af4d10>"
      ]
     },
     "execution_count": 6,
     "metadata": {},
     "output_type": "execute_result"
    },
    {
     "data": {
      "image/png": "[encoded data removed]",
      "text/plain": [
       "<Figure size 432x288 with 1 Axes>"
      ]
     },
     "metadata": {
      "needs_background": "light"
     },
     "output_type": "display_data"
    }
   ],
   "source": [
    "from sklearn.metrics import precision_recall_curve\n",
    "from sklearn.metrics import roc_curve\n",
    "\n",
    "# figsize(7, 5)\n",
    "\n",
    "fig = plt.figure()\n",
    "ax  = plt.subplot(1,1,1)\n",
    "\n",
    "song_bulk_pos = song_bulk_fdr.index[(song_bulk_ds.max(axis=1) >= 0.2) & (song_bulk_fdr.min(axis=1) <= 0.05)]\n",
    "song_bulk_neg = song_bulk_fdr.index[(song_bulk_ds.max(axis=1) < 0.2) | (song_bulk_fdr.min(axis=1) > 0.05)]\n",
    "\n",
    "exons = song_psix.index\n",
    "y1 = [1]*len(song_bulk_pos & exons) + [0]*len(song_bulk_neg & exons)\n",
    "L_score_y = list(song_psix.loc[song_bulk_pos & exons].L_score) + list(song_psix.loc[song_bulk_neg & exons].L_score)\n",
    "# psix_v2_y = list(song_psix.loc[song_bulk_pos & exons].psix_v2) + list(song_psix.loc[song_bulk_neg & exons].psix_v2)\n",
    "kw_y = list(song_kw.loc[song_bulk_pos & exons].KW_score) + list(song_kw.loc[song_bulk_neg & exons].KW_score)\n",
    "\n",
    "pre1, rec1, thres1 = precision_recall_curve(y1, L_score_y)\n",
    "# pre2, rec2, thres2 = precision_recall_curve(y1, psix_v2_y)\n",
    "pre3, rec3, thres3 = precision_recall_curve(y1, kw_y)\n",
    "\n",
    "plt.plot(rec1, pre1, c='navy', label='Psix v1')\n",
    "# plt.plot(rec2, pre2, c='forestgreen', label='Psix v2')\n",
    "plt.plot(rec3, pre3, c='darkorange', label='KW')\n",
    "\n",
    "plt.xlabel('Recall', fontsize=18)\n",
    "plt.ylabel('Precision', fontsize=18)\n",
    "\n",
    "ax.spines[\"right\"].set_visible(False)\n",
    "ax.spines[\"top\"].set_visible(False)\n",
    "ax.tick_params(labelsize=18, length=5)\n",
    "plt.title('song neurogenesis pre-rec curve', fontsize=18)\n",
    "plt.xlim([-0.05, 1.05])\n",
    "# plt.ylim([-0.05, 1.05])\n",
    "plt.legend(frameon=False, fontsize=18)"
   ]
  },
  {
   "cell_type": "code",
   "execution_count": 7,
   "metadata": {},
   "outputs": [
    {
     "name": "stderr",
     "output_type": "stream",
     "text": [
      "100%|██████████| 9/9 [34:42<00:00, 231.39s/it]\n"
     ]
    }
   ],
   "source": [
    "# tiklova_kw_scores_clusters = pd.DataFrame()\n",
    "# chen_kw_scores_clusters = pd.DataFrame()\n",
    "# song_kw_scores_clusters = pd.DataFrame()\n",
    "# for n_clusters in tqdm(np.arange(2, 11)):\n",
    "#     chen_kw_scores, chen_kw_1, chen_kw_25, chen_elife = get_elife_tests(chen_rd, chen_PSI, \n",
    "#                                                             chen_mrna_event, chen_psix, n_clusters = n_clusters)\n",
    "#     chen_kw_scores_clusters['cluster_'+str(n_clusters)] = chen_kw_scores.KW_score\n",
    "    \n",
    "#     tiklova_kw_scores, tiklova_kw_1, tiklova_kw_25, tiklova_elife = get_elife_tests(tiklova_rd, tiklova_PSI, \n",
    "#                                                             tiklova_mrna_event, tiklova_psix, n_clusters = n_clusters)\n",
    "#     tiklova_kw_scores_clusters['cluster_'+str(n_clusters)] = tiklova_kw_scores.KW_score\n",
    "    \n",
    "#     song_kw_scores, song_kw_1, song_kw_25, song_elife = get_elife_tests(song_rd, song_PSI, \n",
    "#                                                             song_mrna_event, song_psix, n_clusters = n_clusters)\n",
    "#     song_kw_scores_clusters['cluster_'+str(n_clusters)] = song_kw_scores.KW_score\n",
    "    \n",
    "#     chen_kw_scores_clusters.index = chen_kw_scores.index\n",
    "#     tiklova_kw_scores_clusters.index = tiklova_kw_scores.index\n",
    "#     song_kw_scores_clusters.index = song_kw_scores.index\n",
    "    \n",
    "    \n",
    "# tiklova_kw_scores_clusters.to_csv('~/tiklova_kw_clusters.tab', sep='\\t', index=True, header=True)\n",
    "# chen_kw_scores_clusters.to_csv('~/chen_kw_clusters.tab', sep='\\t', index=True, header=True)\n",
    "# song_kw_scores_clusters.to_csv('~/song_kw_clusters.tab', sep='\\t', index=True, header=True)"
   ]
  },
  {
   "cell_type": "code",
   "execution_count": null,
   "metadata": {},
   "outputs": [
    {
     "name": "stderr",
     "output_type": "stream",
     "text": [
      "  4%|▍         | 84/1988 [00:22<07:08,  4.45it/s]"
     ]
    },
    {
     "name": "stdout",
     "output_type": "stream",
     "text": [
      "error\n"
     ]
    },
    {
     "name": "stderr",
     "output_type": "stream",
     "text": [
      "  5%|▍         | 93/1988 [00:24<06:11,  5.10it/s]"
     ]
    },
    {
     "name": "stdout",
     "output_type": "stream",
     "text": [
      "error\n",
      "error\n",
      "error\n"
     ]
    },
    {
     "name": "stderr",
     "output_type": "stream",
     "text": [
      "  5%|▍         | 95/1988 [00:24<05:48,  5.43it/s]"
     ]
    },
    {
     "name": "stdout",
     "output_type": "stream",
     "text": [
      "error\n",
      "error\n"
     ]
    },
    {
     "name": "stderr",
     "output_type": "stream",
     "text": [
      "  5%|▍         | 97/1988 [00:25<05:45,  5.48it/s]"
     ]
    },
    {
     "name": "stdout",
     "output_type": "stream",
     "text": [
      "error\n",
      "error\n"
     ]
    },
    {
     "name": "stderr",
     "output_type": "stream",
     "text": [
      "  5%|▍         | 99/1988 [00:25<05:39,  5.56it/s]"
     ]
    },
    {
     "name": "stdout",
     "output_type": "stream",
     "text": [
      "error\n",
      "error\n"
     ]
    },
    {
     "name": "stderr",
     "output_type": "stream",
     "text": [
      "  5%|▌         | 101/1988 [00:26<05:35,  5.63it/s]"
     ]
    },
    {
     "name": "stdout",
     "output_type": "stream",
     "text": [
      "error\n",
      "error\n"
     ]
    },
    {
     "name": "stderr",
     "output_type": "stream",
     "text": [
      "  5%|▌         | 103/1988 [00:26<05:38,  5.56it/s]"
     ]
    },
    {
     "name": "stdout",
     "output_type": "stream",
     "text": [
      "error\n",
      "error\n"
     ]
    },
    {
     "name": "stderr",
     "output_type": "stream",
     "text": [
      "  5%|▌         | 105/1988 [00:26<05:37,  5.59it/s]"
     ]
    },
    {
     "name": "stdout",
     "output_type": "stream",
     "text": [
      "error\n",
      "error\n"
     ]
    },
    {
     "name": "stderr",
     "output_type": "stream",
     "text": [
      "  5%|▌         | 108/1988 [00:27<04:49,  6.50it/s]"
     ]
    },
    {
     "name": "stdout",
     "output_type": "stream",
     "text": [
      "error\n",
      "error\n"
     ]
    },
    {
     "name": "stderr",
     "output_type": "stream",
     "text": [
      "  6%|▌         | 110/1988 [00:27<04:51,  6.45it/s]"
     ]
    },
    {
     "name": "stdout",
     "output_type": "stream",
     "text": [
      "error\n",
      "error\n"
     ]
    },
    {
     "name": "stderr",
     "output_type": "stream",
     "text": [
      "  6%|▌         | 114/1988 [00:27<04:00,  7.78it/s]"
     ]
    },
    {
     "name": "stdout",
     "output_type": "stream",
     "text": [
      "error\n",
      "error\n"
     ]
    },
    {
     "name": "stderr",
     "output_type": "stream",
     "text": [
      "  6%|▌         | 116/1988 [00:28<04:55,  6.33it/s]"
     ]
    },
    {
     "name": "stdout",
     "output_type": "stream",
     "text": [
      "error\n",
      "error\n"
     ]
    },
    {
     "name": "stderr",
     "output_type": "stream",
     "text": [
      "  6%|▌         | 118/1988 [00:28<05:21,  5.81it/s]"
     ]
    },
    {
     "name": "stdout",
     "output_type": "stream",
     "text": [
      "error\n",
      "error\n"
     ]
    },
    {
     "name": "stderr",
     "output_type": "stream",
     "text": [
      "  6%|▌         | 120/1988 [00:28<04:59,  6.23it/s]"
     ]
    },
    {
     "name": "stdout",
     "output_type": "stream",
     "text": [
      "error\n",
      "error\n"
     ]
    },
    {
     "name": "stderr",
     "output_type": "stream",
     "text": [
      "  6%|▌         | 122/1988 [00:29<05:03,  6.14it/s]"
     ]
    },
    {
     "name": "stdout",
     "output_type": "stream",
     "text": [
      "error\n",
      "error\n"
     ]
    },
    {
     "name": "stderr",
     "output_type": "stream",
     "text": [
      "  6%|▋         | 125/1988 [00:29<04:31,  6.85it/s]"
     ]
    },
    {
     "name": "stdout",
     "output_type": "stream",
     "text": [
      "error\n",
      "error\n"
     ]
    },
    {
     "name": "stderr",
     "output_type": "stream",
     "text": [
      "\r",
      "  6%|▋         | 126/1988 [00:29<04:57,  6.25it/s]"
     ]
    },
    {
     "name": "stdout",
     "output_type": "stream",
     "text": [
      "error\n"
     ]
    },
    {
     "name": "stderr",
     "output_type": "stream",
     "text": [
      "  7%|▋         | 130/1988 [00:30<04:28,  6.91it/s]"
     ]
    },
    {
     "name": "stdout",
     "output_type": "stream",
     "text": [
      "error\n",
      "error\n"
     ]
    },
    {
     "name": "stderr",
     "output_type": "stream",
     "text": [
      "  7%|▋         | 148/1988 [00:34<05:37,  5.45it/s]"
     ]
    },
    {
     "name": "stdout",
     "output_type": "stream",
     "text": [
      "error\n",
      "error\n"
     ]
    },
    {
     "name": "stderr",
     "output_type": "stream",
     "text": [
      "  8%|▊         | 150/1988 [00:34<05:25,  5.64it/s]"
     ]
    },
    {
     "name": "stdout",
     "output_type": "stream",
     "text": [
      "error\n",
      "error\n"
     ]
    },
    {
     "name": "stderr",
     "output_type": "stream",
     "text": [
      "\r",
      "  8%|▊         | 151/1988 [00:34<05:30,  5.56it/s]"
     ]
    },
    {
     "name": "stdout",
     "output_type": "stream",
     "text": [
      "error\n"
     ]
    },
    {
     "name": "stderr",
     "output_type": "stream",
     "text": [
      "  8%|▊         | 154/1988 [00:35<04:44,  6.44it/s]"
     ]
    },
    {
     "name": "stdout",
     "output_type": "stream",
     "text": [
      "error\n",
      "error\n"
     ]
    },
    {
     "name": "stderr",
     "output_type": "stream",
     "text": [
      "  8%|▊         | 157/1988 [00:35<04:09,  7.34it/s]"
     ]
    },
    {
     "name": "stdout",
     "output_type": "stream",
     "text": [
      "error\n",
      "error\n"
     ]
    },
    {
     "name": "stderr",
     "output_type": "stream",
     "text": [
      "  8%|▊         | 159/1988 [00:35<04:37,  6.58it/s]"
     ]
    },
    {
     "name": "stdout",
     "output_type": "stream",
     "text": [
      "error\n",
      "error\n"
     ]
    },
    {
     "name": "stderr",
     "output_type": "stream",
     "text": [
      "  8%|▊         | 162/1988 [00:36<04:14,  7.19it/s]"
     ]
    },
    {
     "name": "stdout",
     "output_type": "stream",
     "text": [
      "error\n",
      "error\n"
     ]
    },
    {
     "name": "stderr",
     "output_type": "stream",
     "text": [
      "  8%|▊         | 165/1988 [00:37<06:09,  4.93it/s]"
     ]
    },
    {
     "name": "stdout",
     "output_type": "stream",
     "text": [
      "error\n"
     ]
    },
    {
     "name": "stderr",
     "output_type": "stream",
     "text": [
      "  9%|▉         | 182/1988 [00:41<08:17,  3.63it/s]"
     ]
    }
   ],
   "source": [
    "L_list = []\n",
    "for exon in tqdm(tiklova_psix.index):\n",
    "    L = px.calculate_exon_L(tiklova_PSI, W_tiklova, tiklova_reads_adj, exon, c = 0.1, \n",
    "                 randomize = False)\n",
    "    L_list.append(L)\n",
    "\n",
    "tiklova_psix['L_reads'] = L_list\n",
    "plt.scatter(tiklova_psix.L_score, L_list, alpha=0.5)"
   ]
  },
  {
   "cell_type": "code",
   "execution_count": null,
   "metadata": {},
   "outputs": [],
   "source": [
    "L_list = []\n",
    "for exon in tqdm(chen_psix.index):\n",
    "    L = px.calculate_exon_L(chen_PSI, W_chen, chen_reads_adj, exon, c = 0.1, \n",
    "                 randomize = False)\n",
    "    L_list.append(L)\n",
    "\n",
    "chen_psix['L_reads'] = L_list\n",
    "plt.scatter(chen_psix.L_score, L_list, alpha=0.5)"
   ]
  },
  {
   "cell_type": "code",
   "execution_count": null,
   "metadata": {},
   "outputs": [],
   "source": [
    "L_list = []\n",
    "for exon in tqdm(song_psix.index):\n",
    "    L = px.calculate_exon_L(song_PSI, W_song, song_reads_adj, exon, c = 0.1, \n",
    "                 randomize = False)\n",
    "    L_list.append(L)\n",
    "\n",
    "song_psix['L_reads'] = L_list\n",
    "plt.scatter(song_psix.L_score, L_list, alpha=0.5)"
   ]
  },
  {
   "cell_type": "code",
   "execution_count": 4,
   "metadata": {},
   "outputs": [],
   "source": [
    "tiklova_kw_scores_clusters = pd.read_csv('~/tiklova_kw_clusters.tab', sep='\\t', index_col=0)\n",
    "chen_kw_scores_clusters = pd.read_csv('~/chen_kw_clusters.tab', sep='\\t', index_col=0)\n",
    "song_kw_scores_clusters = pd.read_csv('~/song_kw_clusters.tab', sep='\\t', index_col=0)"
   ]
  },
  {
   "cell_type": "code",
   "execution_count": 49,
   "metadata": {},
   "outputs": [
    {
     "name": "stderr",
     "output_type": "stream",
     "text": [
      "100%|██████████| 100/100 [00:03<00:00, 30.78it/s]\n"
     ]
    },
    {
     "data": {
      "text/plain": [
       "Text(0.5, 1.0, 'Method comparison')"
      ]
     },
     "execution_count": 49,
     "metadata": {},
     "output_type": "execute_result"
    },
    {
     "data": {
      "image/png": "[encoded data removed]",
      "text/plain": [
       "<Figure size 432x288 with 1 Axes>"
      ]
     },
     "metadata": {
      "needs_background": "light"
     },
     "output_type": "display_data"
    }
   ],
   "source": [
    "from sklearn.metrics import auc\n",
    "\n",
    "weyn_pos = weyn_fdr.index[(weyn_ds.max(axis=1) >= 0.2) & (weyn_fdr.min(axis=1) <= 0.05)]\n",
    "weyn_neg = weyn_fdr.index[(weyn_ds.max(axis=1) < 0.2) | (weyn_fdr.min(axis=1) > 0.05)]\n",
    "\n",
    "exons = tiklova_psix.index\n",
    "exons_pos = weyn_pos & exons\n",
    "exons_neg = weyn_neg & exons\n",
    "\n",
    "\n",
    "kw_auc = []\n",
    "L_e2_auc = []\n",
    "L_reads_auc = []\n",
    "\n",
    "c_auc = []\n",
    "brie_auc = []\n",
    "\n",
    "for sample in tqdm(range(100)):\n",
    "    pos_choice = np.random.choice(exons_pos, np.int(0.5*len(exons_pos)), replace=False)\n",
    "    neg_choice = np.random.choice(exons_neg, np.int(0.5*len(exons_neg)), replace=False)\n",
    "    \n",
    "    \n",
    "    y = [1]*len(pd.Index(pos_choice) & tiklova_geary.index) + [0]*len(pd.Index(neg_choice) & tiklova_geary.index)\n",
    "    c_y = list(tiklova_geary.loc[pd.Index(pos_choice) & tiklova_geary.index].C_score) + list(tiklova_geary.loc[pd.Index(neg_choice) & tiklova_geary.index].C_score)\n",
    "    pre, rec, thres = precision_recall_curve(y, c_y)\n",
    "    c_auc.append(auc(rec, pre))\n",
    "\n",
    "    y = [1]*len(pos_choice) + [0]*len(neg_choice)\n",
    "    psix_y = list(tiklova_psix.loc[pos_choice].L_score) + list(tiklova_psix.loc[neg_choice].L_score)\n",
    "    pre, rec, thres = precision_recall_curve(y, psix_y)\n",
    "    L_e2_auc.append(auc(rec, pre))\n",
    "    \n",
    "    \n",
    "    \n",
    "    kw_y = list(tiklova_kw.loc[pos_choice].KW_score) + list(tiklova_kw.loc[neg_choice].KW_score)\n",
    "    pre, rec, thres = precision_recall_curve(y, kw_y)\n",
    "    kw_auc.append(auc(rec, pre))\n",
    "    \n",
    "    r_y = list(tiklova_psix.loc[pos_choice].L_reads) + list(tiklova_psix.loc[neg_choice].L_reads)\n",
    "    pre, rec, thres = precision_recall_curve(y, r_y)\n",
    "    L_reads_auc.append(auc(rec, pre))\n",
    "    \n",
    "    y = [1]*len(pd.Index(pos_choice) & tiklova_brie.index) + [0]*len(pd.Index(neg_choice) & tiklova_brie.index)\n",
    "    brie_y = list(tiklova_brie.loc[pd.Index(pos_choice) & tiklova_brie.index].neuro_ELBO_gain) + list(tiklova_brie.loc[pd.Index(neg_choice) & tiklova_brie.index].neuro_ELBO_gain)\n",
    "    pre, rec, thres = precision_recall_curve(y, brie_y)\n",
    "    brie_auc.append(auc(rec, pre))\n",
    "    \n",
    "    \n",
    "bp = plt.boxplot(\n",
    "    [kw_auc, L_reads_auc, L_e2_auc, c_auc, brie_auc]\n",
    ")\n",
    "\n",
    "\n",
    "plt.xticks(np.arange(1, 6), \n",
    "           ['KW', 'Psix reads', '1e-2', \"geary's C\", 'Brie2'], fontsize=14, rotation=90)\n",
    "\n",
    "plt.ylabel('AUC pre-rec curve', fontsize=14)\n",
    "# plt.xlabel('Method', fontsize=14)\n",
    "plt.title('Method comparison', fontsize=14)\n"
   ]
  },
  {
   "cell_type": "code",
   "execution_count": 17,
   "metadata": {},
   "outputs": [
    {
     "name": "stderr",
     "output_type": "stream",
     "text": [
      "100%|██████████| 100/100 [00:02<00:00, 46.04it/s]\n"
     ]
    },
    {
     "data": {
      "text/plain": [
       "Text(0.5, 1.0, 'Method comparison')"
      ]
     },
     "execution_count": 17,
     "metadata": {},
     "output_type": "execute_result"
    },
    {
     "data": {
      "image/png": "[encoded data removed]",
      "text/plain": [
       "<Figure size 432x288 with 1 Axes>"
      ]
     },
     "metadata": {
      "needs_background": "light"
     },
     "output_type": "display_data"
    }
   ],
   "source": [
    "from sklearn.metrics import auc\n",
    "\n",
    "hubbard_pos = hubbard_fdr.index[(hubbard_ds.max(axis=1) >= 0.2) & (hubbard_fdr.min(axis=1) <= 0.05)]\n",
    "hubbard_neg = hubbard_fdr.index[(hubbard_ds.max(axis=1) < 0.2) | (hubbard_fdr.min(axis=1) > 0.05)]\n",
    "\n",
    "exons = chen_psix.index\n",
    "exons_pos = hubbard_pos & exons\n",
    "exons_neg = hubbard_neg & exons\n",
    "\n",
    "\n",
    "kw_auc = []\n",
    "L_e2_auc = []\n",
    "L_reads_auc = []\n",
    "\n",
    "c_auc = []\n",
    "\n",
    "for sample in tqdm(range(100)):\n",
    "    pos_choice = np.random.choice(exons_pos, np.int(0.5*len(exons_pos)), replace=False)\n",
    "    neg_choice = np.random.choice(exons_neg, np.int(0.5*len(exons_neg)), replace=False)\n",
    "    \n",
    "    y = [1]*len(pd.Index(pos_choice) & chen_geary.index) + [0]*len(pd.Index(neg_choice) & chen_geary.index)\n",
    "    c_y = list(chen_geary.loc[pd.Index(pos_choice) & chen_geary.index].C_score) + list(chen_geary.loc[pd.Index(neg_choice) & chen_geary.index].C_score)\n",
    "    pre, rec, thres = precision_recall_curve(y, c_y)\n",
    "    c_auc.append(auc(rec, pre))\n",
    "    \n",
    "\n",
    "    y = [1]*len(pos_choice) + [0]*len(neg_choice)\n",
    "    psix_y = list(chen_psix.loc[pos_choice].L_score) + list(chen_psix.loc[neg_choice].L_score)\n",
    "    pre, rec, thres = precision_recall_curve(y, psix_y)\n",
    "    L_e2_auc.append(auc(rec, pre))\n",
    "    \n",
    "    \n",
    "    kw_y = list(chen_kw.loc[pos_choice].KW_score) + list(chen_kw.loc[neg_choice].KW_score)\n",
    "    pre, rec, thres = precision_recall_curve(y, kw_y)\n",
    "    kw_auc.append(auc(rec, pre))\n",
    "    \n",
    "    r_y = list(chen_psix.loc[pos_choice].L_reads) + list(chen_psix.loc[neg_choice].L_reads)\n",
    "    pre, rec, thres = precision_recall_curve(y, r_y)\n",
    "    L_reads_auc.append(auc(rec, pre))\n",
    "    \n",
    "bp = plt.boxplot(\n",
    "    [kw_auc, L_reads_auc, L_e2_auc, c_auc]\n",
    ")\n",
    "\n",
    "\n",
    "plt.xticks(np.arange(1, 5), \n",
    "           ['KW', 'Psix reads', '1e-2', \"geary's C\"], fontsize=14, rotation=90)\n",
    "\n",
    "plt.ylabel('AUC pre-rec curve', fontsize=14)\n",
    "# plt.xlabel('Method', fontsize=14)\n",
    "plt.title('Method comparison', fontsize=14)\n"
   ]
  },
  {
   "cell_type": "code",
   "execution_count": 18,
   "metadata": {},
   "outputs": [
    {
     "name": "stderr",
     "output_type": "stream",
     "text": [
      "100%|██████████| 100/100 [00:02<00:00, 45.33it/s]\n"
     ]
    },
    {
     "data": {
      "text/plain": [
       "Text(0.5, 1.0, 'Method comparison')"
      ]
     },
     "execution_count": 18,
     "metadata": {},
     "output_type": "execute_result"
    },
    {
     "data": {
      "image/png": "[encoded data removed]",
      "text/plain": [
       "<Figure size 432x288 with 1 Axes>"
      ]
     },
     "metadata": {
      "needs_background": "light"
     },
     "output_type": "display_data"
    }
   ],
   "source": [
    "from sklearn.metrics import auc\n",
    "\n",
    "song_bulk_pos = song_bulk_fdr.index[(song_bulk_ds.max(axis=1) >= 0.2) & (song_bulk_fdr.min(axis=1) <= 0.05)]\n",
    "song_bulk_neg = song_bulk_fdr.index[(song_bulk_ds.max(axis=1) < 0.2) | (song_bulk_fdr.min(axis=1) > 0.05)]\n",
    "\n",
    "exons = song_psix.index\n",
    "exons_pos = song_bulk_pos & exons\n",
    "exons_neg = song_bulk_neg & exons\n",
    "\n",
    "\n",
    "kw_auc = []\n",
    "L_e2_auc = []\n",
    "L_reads_auc = []\n",
    "\n",
    "c_auc = []\n",
    "\n",
    "for sample in tqdm(range(100)):\n",
    "    pos_choice = np.random.choice(exons_pos, np.int(0.5*len(exons_pos)), replace=False)\n",
    "    neg_choice = np.random.choice(exons_neg, np.int(0.5*len(exons_neg)), replace=False)\n",
    "    \n",
    "    y = [1]*len(pd.Index(pos_choice) & song_geary.index) + [0]*len(pd.Index(neg_choice) & song_geary.index)\n",
    "    c_y = list(song_geary.loc[pd.Index(pos_choice) & song_geary.index].C_score) + list(song_geary.loc[pd.Index(neg_choice) & song_geary.index].C_score)\n",
    "    pre, rec, thres = precision_recall_curve(y, c_y)\n",
    "    c_auc.append(auc(rec, pre))\n",
    "\n",
    "    y = [1]*len(pos_choice) + [0]*len(neg_choice)\n",
    "    psix_y = list(song_psix.loc[pos_choice].L_score) + list(song_psix.loc[neg_choice].L_score)\n",
    "    pre, rec, thres = precision_recall_curve(y, psix_y)\n",
    "    L_e2_auc.append(auc(rec, pre))\n",
    "    \n",
    "    \n",
    "    \n",
    "    kw_y = list(song_kw.loc[pos_choice].KW_score) + list(song_kw.loc[neg_choice].KW_score)\n",
    "    pre, rec, thres = precision_recall_curve(y, kw_y)\n",
    "    kw_auc.append(auc(rec, pre))\n",
    "    \n",
    "    r_y = list(song_psix.loc[pos_choice].L_reads) + list(song_psix.loc[neg_choice].L_reads)\n",
    "    pre, rec, thres = precision_recall_curve(y, r_y)\n",
    "    L_reads_auc.append(auc(rec, pre))\n",
    "    \n",
    "bp = plt.boxplot(\n",
    "    [kw_auc, L_reads_auc, L_e2_auc, c_auc]\n",
    ")\n",
    "\n",
    "\n",
    "plt.xticks(np.arange(1, 5), \n",
    "           ['KW', 'Psix reads', '1e-2', \"geary's C\"], fontsize=14, rotation=90)\n",
    "\n",
    "plt.ylabel('AUC pre-rec curve', fontsize=14)\n",
    "# plt.xlabel('Method', fontsize=14)\n",
    "plt.title('Method comparison', fontsize=14)\n",
    "\n",
    "\n",
    "plt.ylabel('AUC pre-rec curve', fontsize=14)\n",
    "# plt.xlabel('Method', fontsize=14)\n",
    "plt.title('Method comparison', fontsize=14)\n"
   ]
  },
  {
   "cell_type": "code",
   "execution_count": 16,
   "metadata": {},
   "outputs": [
    {
     "data": {
      "text/plain": [
       "Index(['SRR7408400', 'SRR7408401', 'SRR7408404', 'SRR7408413', 'SRR7408414',\n",
       "       'SRR7408418', 'SRR7408422', 'SRR7408424', 'SRR7408426', 'SRR7408427',\n",
       "       ...\n",
       "       'SRR7410086', 'SRR7410088', 'SRR7410089', 'SRR7410090', 'SRR7410091',\n",
       "       'SRR7410092', 'SRR7410093', 'SRR7410094', 'SRR7410096', 'SRR7410097'],\n",
       "      dtype='object', length=1197)"
      ]
     },
     "execution_count": 16,
     "metadata": {},
     "output_type": "execute_result"
    }
   ],
   "source": [
    "tiklova_rd.index"
   ]
  },
  {
   "cell_type": "code",
   "execution_count": 17,
   "metadata": {},
   "outputs": [
    {
     "data": {
      "text/html": [
       "<div>\n",
       "<style scoped>\n",
       "    .dataframe tbody tr th:only-of-type {\n",
       "        vertical-align: middle;\n",
       "    }\n",
       "\n",
       "    .dataframe tbody tr th {\n",
       "        vertical-align: top;\n",
       "    }\n",
       "\n",
       "    .dataframe thead th {\n",
       "        text-align: right;\n",
       "    }\n",
       "</style>\n",
       "<table border=\"1\" class=\"dataframe\">\n",
       "  <thead>\n",
       "    <tr style=\"text-align: right;\">\n",
       "      <th></th>\n",
       "      <th>cluster_2</th>\n",
       "      <th>cluster_3</th>\n",
       "      <th>cluster_4</th>\n",
       "      <th>cluster_5</th>\n",
       "      <th>cluster_6</th>\n",
       "      <th>cluster_7</th>\n",
       "      <th>cluster_8</th>\n",
       "      <th>cluster_9</th>\n",
       "      <th>cluster_10</th>\n",
       "    </tr>\n",
       "  </thead>\n",
       "  <tbody>\n",
       "    <tr>\n",
       "      <th>Aasdh_3</th>\n",
       "      <td>5.077451</td>\n",
       "      <td>5.077451</td>\n",
       "      <td>14.775475</td>\n",
       "      <td>14.775475</td>\n",
       "      <td>15.024270</td>\n",
       "      <td>15.449438</td>\n",
       "      <td>15.449438</td>\n",
       "      <td>15.449438</td>\n",
       "      <td>17.411836</td>\n",
       "    </tr>\n",
       "    <tr>\n",
       "      <th>Acadvl_1</th>\n",
       "      <td>0.661427</td>\n",
       "      <td>0.686903</td>\n",
       "      <td>0.703834</td>\n",
       "      <td>0.808916</td>\n",
       "      <td>0.906143</td>\n",
       "      <td>1.189424</td>\n",
       "      <td>1.632373</td>\n",
       "      <td>1.712662</td>\n",
       "      <td>2.786848</td>\n",
       "    </tr>\n",
       "    <tr>\n",
       "      <th>Actr3b_4</th>\n",
       "      <td>0.002622</td>\n",
       "      <td>0.407935</td>\n",
       "      <td>0.560645</td>\n",
       "      <td>4.916571</td>\n",
       "      <td>4.920745</td>\n",
       "      <td>4.997152</td>\n",
       "      <td>8.551775</td>\n",
       "      <td>12.237558</td>\n",
       "      <td>12.491957</td>\n",
       "    </tr>\n",
       "    <tr>\n",
       "      <th>Add1_7</th>\n",
       "      <td>0.111408</td>\n",
       "      <td>0.195250</td>\n",
       "      <td>2.063353</td>\n",
       "      <td>2.065354</td>\n",
       "      <td>2.066250</td>\n",
       "      <td>5.002097</td>\n",
       "      <td>7.090044</td>\n",
       "      <td>9.339802</td>\n",
       "      <td>11.458179</td>\n",
       "    </tr>\n",
       "    <tr>\n",
       "      <th>Add3_1</th>\n",
       "      <td>13.043792</td>\n",
       "      <td>57.174497</td>\n",
       "      <td>57.285195</td>\n",
       "      <td>114.264596</td>\n",
       "      <td>116.504871</td>\n",
       "      <td>116.882690</td>\n",
       "      <td>118.377948</td>\n",
       "      <td>126.706172</td>\n",
       "      <td>129.468968</td>\n",
       "    </tr>\n",
       "    <tr>\n",
       "      <th>...</th>\n",
       "      <td>...</td>\n",
       "      <td>...</td>\n",
       "      <td>...</td>\n",
       "      <td>...</td>\n",
       "      <td>...</td>\n",
       "      <td>...</td>\n",
       "      <td>...</td>\n",
       "      <td>...</td>\n",
       "      <td>...</td>\n",
       "    </tr>\n",
       "    <tr>\n",
       "      <th>Hnrnpa2b1_3</th>\n",
       "      <td>4.959284</td>\n",
       "      <td>5.619199</td>\n",
       "      <td>7.186211</td>\n",
       "      <td>10.116477</td>\n",
       "      <td>10.117927</td>\n",
       "      <td>10.344937</td>\n",
       "      <td>10.495916</td>\n",
       "      <td>10.552986</td>\n",
       "      <td>10.890511</td>\n",
       "    </tr>\n",
       "    <tr>\n",
       "      <th>Ndufa7_2</th>\n",
       "      <td>5.553817</td>\n",
       "      <td>16.389583</td>\n",
       "      <td>32.898703</td>\n",
       "      <td>61.693734</td>\n",
       "      <td>65.586765</td>\n",
       "      <td>65.619953</td>\n",
       "      <td>65.631353</td>\n",
       "      <td>65.881492</td>\n",
       "      <td>67.774941</td>\n",
       "    </tr>\n",
       "    <tr>\n",
       "      <th>Rps27l_2</th>\n",
       "      <td>28.598002</td>\n",
       "      <td>33.092956</td>\n",
       "      <td>33.096979</td>\n",
       "      <td>47.010571</td>\n",
       "      <td>59.481776</td>\n",
       "      <td>59.847422</td>\n",
       "      <td>60.249824</td>\n",
       "      <td>60.937344</td>\n",
       "      <td>61.643938</td>\n",
       "    </tr>\n",
       "    <tr>\n",
       "      <th>Srsf7_3</th>\n",
       "      <td>3.258289</td>\n",
       "      <td>8.400392</td>\n",
       "      <td>8.529937</td>\n",
       "      <td>9.134748</td>\n",
       "      <td>9.802634</td>\n",
       "      <td>12.193551</td>\n",
       "      <td>12.193636</td>\n",
       "      <td>21.350463</td>\n",
       "      <td>22.560926</td>\n",
       "    </tr>\n",
       "    <tr>\n",
       "      <th>Tcp1_2</th>\n",
       "      <td>7.273445</td>\n",
       "      <td>36.973664</td>\n",
       "      <td>37.347442</td>\n",
       "      <td>41.877192</td>\n",
       "      <td>55.225692</td>\n",
       "      <td>57.505971</td>\n",
       "      <td>60.134037</td>\n",
       "      <td>65.184485</td>\n",
       "      <td>65.199137</td>\n",
       "    </tr>\n",
       "  </tbody>\n",
       "</table>\n",
       "<p>2098 rows × 9 columns</p>\n",
       "</div>"
      ],
      "text/plain": [
       "             cluster_2  cluster_3  cluster_4   cluster_5   cluster_6  \\\n",
       "Aasdh_3       5.077451   5.077451  14.775475   14.775475   15.024270   \n",
       "Acadvl_1      0.661427   0.686903   0.703834    0.808916    0.906143   \n",
       "Actr3b_4      0.002622   0.407935   0.560645    4.916571    4.920745   \n",
       "Add1_7        0.111408   0.195250   2.063353    2.065354    2.066250   \n",
       "Add3_1       13.043792  57.174497  57.285195  114.264596  116.504871   \n",
       "...                ...        ...        ...         ...         ...   \n",
       "Hnrnpa2b1_3   4.959284   5.619199   7.186211   10.116477   10.117927   \n",
       "Ndufa7_2      5.553817  16.389583  32.898703   61.693734   65.586765   \n",
       "Rps27l_2     28.598002  33.092956  33.096979   47.010571   59.481776   \n",
       "Srsf7_3       3.258289   8.400392   8.529937    9.134748    9.802634   \n",
       "Tcp1_2        7.273445  36.973664  37.347442   41.877192   55.225692   \n",
       "\n",
       "              cluster_7   cluster_8   cluster_9  cluster_10  \n",
       "Aasdh_3       15.449438   15.449438   15.449438   17.411836  \n",
       "Acadvl_1       1.189424    1.632373    1.712662    2.786848  \n",
       "Actr3b_4       4.997152    8.551775   12.237558   12.491957  \n",
       "Add1_7         5.002097    7.090044    9.339802   11.458179  \n",
       "Add3_1       116.882690  118.377948  126.706172  129.468968  \n",
       "...                 ...         ...         ...         ...  \n",
       "Hnrnpa2b1_3   10.344937   10.495916   10.552986   10.890511  \n",
       "Ndufa7_2      65.619953   65.631353   65.881492   67.774941  \n",
       "Rps27l_2      59.847422   60.249824   60.937344   61.643938  \n",
       "Srsf7_3       12.193551   12.193636   21.350463   22.560926  \n",
       "Tcp1_2        57.505971   60.134037   65.184485   65.199137  \n",
       "\n",
       "[2098 rows x 9 columns]"
      ]
     },
     "execution_count": 17,
     "metadata": {},
     "output_type": "execute_result"
    }
   ],
   "source": [
    "chen_kw_scores_clusters"
   ]
  },
  {
   "cell_type": "code",
   "execution_count": 22,
   "metadata": {},
   "outputs": [
    {
     "name": "stderr",
     "output_type": "stream",
     "text": [
      "100%|██████████| 100/100 [00:00<00:00, 239.38it/s]\n",
      "100%|██████████| 100/100 [00:00<00:00, 250.82it/s]\n",
      "100%|██████████| 100/100 [00:00<00:00, 250.52it/s]\n",
      "100%|██████████| 100/100 [00:00<00:00, 253.12it/s]\n",
      "100%|██████████| 100/100 [00:00<00:00, 252.92it/s]\n",
      "100%|██████████| 100/100 [00:00<00:00, 253.37it/s]\n",
      "100%|██████████| 100/100 [00:00<00:00, 320.84it/s]\n",
      "100%|██████████| 100/100 [00:00<00:00, 314.73it/s]\n",
      "100%|██████████| 100/100 [00:00<00:00, 311.67it/s]\n"
     ]
    },
    {
     "data": {
      "image/png": "[encoded data removed]",
      "text/plain": [
       "<Figure size 432x288 with 1 Axes>"
      ]
     },
     "metadata": {
      "needs_background": "light"
     },
     "output_type": "display_data"
    }
   ],
   "source": [
    "tiklova_kw_auc_list = []\n",
    "\n",
    "weyn_pos = weyn_fdr.index[(weyn_ds.max(axis=1) >= 0.2) & (weyn_fdr.min(axis=1) <= 0.05)]\n",
    "weyn_neg = weyn_fdr.index[(weyn_ds.max(axis=1) < 0.2) | (weyn_fdr.min(axis=1) > 0.05)]\n",
    "\n",
    "exons = tiklova_psix.index\n",
    "exons_pos = weyn_pos & exons\n",
    "exons_neg = weyn_neg & exons\n",
    "\n",
    "\n",
    "for clu in tiklova_kw_scores_clusters.columns:\n",
    "    kw_auc = []\n",
    "    \n",
    "    for sample in tqdm(range(100)):\n",
    "        pos_choice = np.random.choice(exons_pos, np.int(0.5*len(exons_pos)), replace=False)\n",
    "        neg_choice = np.random.choice(exons_neg, np.int(0.5*len(exons_neg)), replace=False)\n",
    "\n",
    "        y = [1]*len(pos_choice) + [0]*len(neg_choice)\n",
    "        kw_y = list(tiklova_kw_scores_clusters.loc[pos_choice][clu]) + list(tiklova_kw_scores_clusters.loc[neg_choice][clu])\n",
    "        pre, rec, thres = precision_recall_curve(y, kw_y)\n",
    "        kw_auc.append(auc(rec, pre))\n",
    "        \n",
    "    tiklova_kw_auc_list.append(kw_auc)\n",
    "\n",
    "    \n"
   ]
  },
  {
   "cell_type": "code",
   "execution_count": 27,
   "metadata": {},
   "outputs": [
    {
     "name": "stderr",
     "output_type": "stream",
     "text": [
      "100%|██████████| 100/100 [00:00<00:00, 241.29it/s]\n",
      "100%|██████████| 100/100 [00:00<00:00, 248.93it/s]\n",
      "100%|██████████| 100/100 [00:00<00:00, 248.36it/s]\n",
      "100%|██████████| 100/100 [00:00<00:00, 245.57it/s]\n",
      "100%|██████████| 100/100 [00:00<00:00, 244.12it/s]\n",
      "100%|██████████| 100/100 [00:00<00:00, 255.85it/s]\n",
      "100%|██████████| 100/100 [00:00<00:00, 257.26it/s]\n",
      "100%|██████████| 100/100 [00:00<00:00, 221.07it/s]\n",
      "100%|██████████| 100/100 [00:00<00:00, 323.06it/s]\n"
     ]
    }
   ],
   "source": [
    "chen_kw_auc_list = []\n",
    "\n",
    "hubbard_pos = hubbard_fdr.index[(hubbard_ds.max(axis=1) >= 0.2) & (hubbard_fdr.min(axis=1) <= 0.05)]\n",
    "hubbard_neg = hubbard_fdr.index[(hubbard_ds.max(axis=1) < 0.2) | (hubbard_fdr.min(axis=1) > 0.05)]\n",
    "\n",
    "exons = chen_psix.index\n",
    "exons_pos = hubbard_pos & exons\n",
    "exons_neg = hubbard_neg & exons\n",
    "\n",
    "\n",
    "for clu in chen_kw_scores_clusters.columns:\n",
    "    kw_auc = []\n",
    "    \n",
    "    for sample in tqdm(range(100)):\n",
    "        pos_choice = np.random.choice(exons_pos, np.int(0.5*len(exons_pos)), replace=False)\n",
    "        neg_choice = np.random.choice(exons_neg, np.int(0.5*len(exons_neg)), replace=False)\n",
    "\n",
    "        y = [1]*len(pos_choice) + [0]*len(neg_choice)\n",
    "        kw_y = list(chen_kw_scores_clusters.loc[pos_choice][clu]) + list(chen_kw_scores_clusters.loc[neg_choice][clu])\n",
    "        pre, rec, thres = precision_recall_curve(y, kw_y)\n",
    "        kw_auc.append(auc(rec, pre))\n",
    "        \n",
    "    chen_kw_auc_list.append(kw_auc)\n",
    "\n",
    "    \n"
   ]
  },
  {
   "cell_type": "code",
   "execution_count": 23,
   "metadata": {},
   "outputs": [
    {
     "data": {
      "image/png": "[encoded data removed]",
      "text/plain": [
       "<Figure size 432x288 with 1 Axes>"
      ]
     },
     "metadata": {
      "needs_background": "light"
     },
     "output_type": "display_data"
    }
   ],
   "source": [
    "bp = plt.boxplot(\n",
    "     tiklova_kw_auc_list\n",
    ")"
   ]
  },
  {
   "cell_type": "code",
   "execution_count": 28,
   "metadata": {},
   "outputs": [
    {
     "data": {
      "image/png": "[encoded data removed]",
      "text/plain": [
       "<Figure size 432x288 with 1 Axes>"
      ]
     },
     "metadata": {
      "needs_background": "light"
     },
     "output_type": "display_data"
    }
   ],
   "source": [
    "bp = plt.boxplot(\n",
    "     chen_kw_auc_list\n",
    ")"
   ]
  },
  {
   "cell_type": "code",
   "execution_count": 29,
   "metadata": {},
   "outputs": [
    {
     "name": "stderr",
     "output_type": "stream",
     "text": [
      "100%|██████████| 100/100 [00:00<00:00, 250.34it/s]\n",
      "100%|██████████| 100/100 [00:00<00:00, 257.00it/s]\n",
      "100%|██████████| 100/100 [00:00<00:00, 217.59it/s]\n",
      "100%|██████████| 100/100 [00:00<00:00, 257.31it/s]\n",
      "100%|██████████| 100/100 [00:00<00:00, 280.27it/s]\n",
      "100%|██████████| 100/100 [00:00<00:00, 339.55it/s]\n",
      "100%|██████████| 100/100 [00:00<00:00, 337.82it/s]\n",
      "100%|██████████| 100/100 [00:00<00:00, 332.88it/s]\n",
      "100%|██████████| 100/100 [00:00<00:00, 320.49it/s]\n"
     ]
    }
   ],
   "source": [
    "song_kw_auc_list = []\n",
    "\n",
    "song_bulk_pos = song_bulk_fdr.index[(song_bulk_ds.max(axis=1) >= 0.2) & (song_bulk_fdr.min(axis=1) <= 0.05)]\n",
    "song_bulk_neg = song_bulk_fdr.index[(song_bulk_ds.max(axis=1) < 0.2) | (song_bulk_fdr.min(axis=1) > 0.05)]\n",
    "\n",
    "exons = song_psix.index\n",
    "exons_pos = song_bulk_pos & exons\n",
    "exons_neg = song_bulk_neg & exons\n",
    "\n",
    "\n",
    "for clu in song_kw_scores_clusters.columns:\n",
    "    kw_auc = []\n",
    "    \n",
    "    for sample in tqdm(range(100)):\n",
    "        pos_choice = np.random.choice(exons_pos, np.int(0.5*len(exons_pos)), replace=False)\n",
    "        neg_choice = np.random.choice(exons_neg, np.int(0.5*len(exons_neg)), replace=False)\n",
    "\n",
    "        y = [1]*len(pos_choice) + [0]*len(neg_choice)\n",
    "        kw_y = list(song_kw_scores_clusters.loc[pos_choice][clu]) + list(song_kw_scores_clusters.loc[neg_choice][clu])\n",
    "        pre, rec, thres = precision_recall_curve(y, kw_y)\n",
    "        kw_auc.append(auc(rec, pre))\n",
    "        \n",
    "    song_kw_auc_list.append(kw_auc)\n",
    "\n",
    "    \n"
   ]
  },
  {
   "cell_type": "code",
   "execution_count": 30,
   "metadata": {},
   "outputs": [
    {
     "data": {
      "image/png": "[encoded data removed]",
      "text/plain": [
       "<Figure size 432x288 with 1 Axes>"
      ]
     },
     "metadata": {
      "needs_background": "light"
     },
     "output_type": "display_data"
    }
   ],
   "source": [
    "bp = plt.boxplot(\n",
    "     song_kw_auc_list\n",
    ")"
   ]
  },
  {
   "cell_type": "code",
   "execution_count": 20,
   "metadata": {},
   "outputs": [],
   "source": [
    "# tiklova_kw_scores_clusters.to_csv('~/tiklova_kw_clusters.tab', sep='\\t', index=True, header=True)\n",
    "# chen_kw_scores_clusters.to_csv('~/chen_kw_clusters.tab', sep='\\t', index=True, header=True)\n",
    "# song_kw_scores_clusters.to_csv('~/song_kw_clusters.tab', sep='\\t', index=True, header=True)"
   ]
  },
  {
   "cell_type": "code",
   "execution_count": 31,
   "metadata": {},
   "outputs": [
    {
     "name": "stderr",
     "output_type": "stream",
     "text": [
      "100%|██████████| 100/100 [00:01<00:00, 78.88it/s]\n"
     ]
    },
    {
     "data": {
      "text/plain": [
       "Text(0.5, 1.0, 'Method comparison')"
      ]
     },
     "execution_count": 31,
     "metadata": {},
     "output_type": "execute_result"
    },
    {
     "data": {
      "image/png": "[encoded data removed]",
      "text/plain": [
       "<Figure size 432x288 with 1 Axes>"
      ]
     },
     "metadata": {
      "needs_background": "light"
     },
     "output_type": "display_data"
    }
   ],
   "source": [
    "from sklearn.metrics import auc\n",
    "\n",
    "weyn_pos = weyn_fdr.index[(weyn_ds.max(axis=1) >= 0.2) & (weyn_fdr.min(axis=1) <= 0.05)]\n",
    "weyn_neg = weyn_fdr.index[(weyn_ds.max(axis=1) < 0.2) | (weyn_fdr.min(axis=1) > 0.05)]\n",
    "\n",
    "exons = tiklova_psix.index\n",
    "exons_pos = weyn_pos & exons\n",
    "exons_neg = weyn_neg & exons\n",
    "\n",
    "\n",
    "kw_auc = []\n",
    "L_e2_auc = []\n",
    "L_reads_auc = []\n",
    "\n",
    "L_sum_auc = []\n",
    "\n",
    "for sample in tqdm(range(100)):\n",
    "    pos_choice = np.random.choice(exons_pos, np.int(0.5*len(exons_pos)), replace=False)\n",
    "    neg_choice = np.random.choice(exons_neg, np.int(0.5*len(exons_neg)), replace=False)\n",
    "\n",
    "    y = [1]*len(pos_choice) + [0]*len(neg_choice)\n",
    "    psix_y = list(tiklova_psix.loc[pos_choice].L_score) + list(tiklova_psix.loc[neg_choice].L_score)\n",
    "    rec, pre, thres = roc_curve(y, psix_y)\n",
    "    L_e2_auc.append(auc(rec, pre))\n",
    "    \n",
    "    kw_y = list(tiklova_kw.loc[pos_choice].KW_score) + list(tiklova_kw.loc[neg_choice].KW_score)\n",
    "    rec, pre, thres = roc_curve(y, kw_y)\n",
    "    kw_auc.append(auc(rec, pre))\n",
    "    \n",
    "    r_y = list(tiklova_psix.loc[pos_choice].L_reads) + list(tiklova_psix.loc[neg_choice].L_reads)\n",
    "    rec, pre, thres = roc_curve(y, r_y)\n",
    "    L_reads_auc.append(auc(rec, pre))\n",
    "    \n",
    "bp = plt.boxplot(\n",
    "    [kw_auc, L_reads_auc, L_e2_auc]\n",
    ")\n",
    "\n",
    "\n",
    "plt.xticks(np.arange(1, 4), \n",
    "           ['KW', 'Psix reads', '1e-2'], fontsize=14, rotation=90)\n",
    "\n",
    "plt.ylabel('AUC ROC curve', fontsize=14)\n",
    "# plt.xlabel('Method', fontsize=14)\n",
    "plt.title('Method comparison', fontsize=14)\n"
   ]
  },
  {
   "cell_type": "code",
   "execution_count": 9,
   "metadata": {},
   "outputs": [
    {
     "name": "stderr",
     "output_type": "stream",
     "text": [
      "  1%|▏         | 17/1197 [00:00<00:07, 168.15it/s]"
     ]
    },
    {
     "name": "stdout",
     "output_type": "stream",
     "text": [
      "K = 30\n"
     ]
    },
    {
     "name": "stderr",
     "output_type": "stream",
     "text": [
      "100%|██████████| 1197/1197 [00:07<00:00, 168.87it/s]\n",
      "  0%|          | 0/1988 [00:00<?, ?it/s]../utils/psix_functions.py:129: RuntimeWarning: invalid value encountered in true_divide\n",
      "  )/np.array(W.loc[cell_list, cell_list].sum(axis=1)))\n",
      " 50%|████▉     | 993/1988 [01:57<03:00,  5.51it/s]../utils/psix_functions.py:69: RuntimeWarning: invalid value encountered in double_scalars\n",
      "  return comb_1*comb_2*comb_3\n",
      " 96%|█████████▌| 1904/1988 [04:24<00:26,  3.19it/s]../utils/psix_functions.py:69: RuntimeWarning: overflow encountered in double_scalars\n",
      "  return comb_1*comb_2*comb_3\n",
      " 96%|█████████▋| 1915/1988 [04:27<00:18,  4.05it/s]../utils/psix_functions.py:46: RuntimeWarning: overflow encountered in multiply\n",
      "  prob_array = comb_1*comb_2*proba_1*proba_2\n",
      "../utils/psix_functions.py:46: RuntimeWarning: invalid value encountered in multiply\n",
      "  prob_array = comb_1*comb_2*proba_1*proba_2\n",
      "100%|██████████| 1988/1988 [04:45<00:00,  6.96it/s]\n",
      "  1%|          | 12/1197 [00:00<00:10, 115.93it/s]"
     ]
    },
    {
     "name": "stdout",
     "output_type": "stream",
     "text": [
      "K = 35\n"
     ]
    },
    {
     "name": "stderr",
     "output_type": "stream",
     "text": [
      "100%|██████████| 1197/1197 [00:10<00:00, 115.71it/s]\n",
      "  0%|          | 0/1988 [00:00<?, ?it/s]../utils/psix_functions.py:129: RuntimeWarning: invalid value encountered in true_divide\n",
      "  )/np.array(W.loc[cell_list, cell_list].sum(axis=1)))\n",
      " 50%|████▉     | 993/1988 [01:56<02:55,  5.67it/s]../utils/psix_functions.py:69: RuntimeWarning: invalid value encountered in double_scalars\n",
      "  return comb_1*comb_2*comb_3\n",
      " 96%|█████████▌| 1904/1988 [04:18<00:21,  3.99it/s]../utils/psix_functions.py:69: RuntimeWarning: overflow encountered in double_scalars\n",
      "  return comb_1*comb_2*comb_3\n",
      " 96%|█████████▋| 1915/1988 [04:20<00:17,  4.25it/s]../utils/psix_functions.py:46: RuntimeWarning: overflow encountered in multiply\n",
      "  prob_array = comb_1*comb_2*proba_1*proba_2\n",
      "../utils/psix_functions.py:46: RuntimeWarning: invalid value encountered in multiply\n",
      "  prob_array = comb_1*comb_2*proba_1*proba_2\n",
      "100%|██████████| 1988/1988 [04:41<00:00,  7.05it/s]\n",
      "  1%|          | 9/1197 [00:00<00:14, 82.67it/s]"
     ]
    },
    {
     "name": "stdout",
     "output_type": "stream",
     "text": [
      "K = 50\n"
     ]
    },
    {
     "name": "stderr",
     "output_type": "stream",
     "text": [
      "100%|██████████| 1197/1197 [00:13<00:00, 88.22it/s] \n",
      "  0%|          | 0/1988 [00:00<?, ?it/s]../utils/psix_functions.py:129: RuntimeWarning: invalid value encountered in true_divide\n",
      "  )/np.array(W.loc[cell_list, cell_list].sum(axis=1)))\n",
      " 50%|████▉     | 993/1988 [01:56<03:27,  4.80it/s]../utils/psix_functions.py:69: RuntimeWarning: invalid value encountered in double_scalars\n",
      "  return comb_1*comb_2*comb_3\n",
      " 96%|█████████▌| 1904/1988 [04:22<00:25,  3.28it/s]../utils/psix_functions.py:69: RuntimeWarning: overflow encountered in double_scalars\n",
      "  return comb_1*comb_2*comb_3\n",
      "100%|██████████| 1988/1988 [04:44<00:00,  6.98it/s]\n",
      "  0%|          | 4/1197 [00:00<00:36, 32.66it/s]"
     ]
    },
    {
     "name": "stdout",
     "output_type": "stream",
     "text": [
      "K = 150\n"
     ]
    },
    {
     "name": "stderr",
     "output_type": "stream",
     "text": [
      "100%|██████████| 1197/1197 [00:41<00:00, 28.95it/s]\n",
      " 50%|████▉     | 993/1988 [01:56<02:57,  5.59it/s]../utils/psix_functions.py:69: RuntimeWarning: invalid value encountered in double_scalars\n",
      "  return comb_1*comb_2*comb_3\n",
      " 51%|█████     | 1007/1988 [01:58<02:33,  6.39it/s]../utils/psix_functions.py:129: RuntimeWarning: invalid value encountered in true_divide\n",
      "  )/np.array(W.loc[cell_list, cell_list].sum(axis=1)))\n",
      " 96%|█████████▌| 1904/1988 [04:19<00:20,  4.03it/s]../utils/psix_functions.py:69: RuntimeWarning: overflow encountered in double_scalars\n",
      "  return comb_1*comb_2*comb_3\n",
      "100%|██████████| 1988/1988 [04:42<00:00,  7.05it/s]\n",
      "  0%|          | 3/1197 [00:00<00:47, 25.17it/s]"
     ]
    },
    {
     "name": "stdout",
     "output_type": "stream",
     "text": [
      "K = 200\n"
     ]
    },
    {
     "name": "stderr",
     "output_type": "stream",
     "text": [
      "100%|██████████| 1197/1197 [00:55<00:00, 21.67it/s]\n",
      " 50%|████▉     | 993/1988 [01:56<03:35,  4.62it/s]../utils/psix_functions.py:69: RuntimeWarning: invalid value encountered in double_scalars\n",
      "  return comb_1*comb_2*comb_3\n",
      " 96%|█████████▌| 1904/1988 [04:20<00:25,  3.27it/s]../utils/psix_functions.py:69: RuntimeWarning: overflow encountered in double_scalars\n",
      "  return comb_1*comb_2*comb_3\n",
      "100%|██████████| 1988/1988 [04:44<00:00,  6.99it/s]\n",
      "  0%|          | 0/1197 [00:00<?, ?it/s]"
     ]
    },
    {
     "name": "stdout",
     "output_type": "stream",
     "text": [
      "K = 300\n"
     ]
    },
    {
     "name": "stderr",
     "output_type": "stream",
     "text": [
      "100%|██████████| 1197/1197 [01:22<00:00, 14.51it/s]\n",
      " 50%|████▉     | 993/1988 [01:58<03:40,  4.52it/s]../utils/psix_functions.py:69: RuntimeWarning: invalid value encountered in double_scalars\n",
      "  return comb_1*comb_2*comb_3\n",
      " 96%|█████████▌| 1904/1988 [04:24<00:26,  3.23it/s]../utils/psix_functions.py:69: RuntimeWarning: overflow encountered in double_scalars\n",
      "  return comb_1*comb_2*comb_3\n",
      "100%|██████████| 1988/1988 [04:47<00:00,  6.93it/s]\n",
      "  0%|          | 0/1197 [00:00<?, ?it/s]"
     ]
    },
    {
     "name": "stdout",
     "output_type": "stream",
     "text": [
      "K = 400\n"
     ]
    },
    {
     "name": "stderr",
     "output_type": "stream",
     "text": [
      "100%|██████████| 1197/1197 [01:49<00:00, 10.97it/s]\n",
      " 50%|████▉     | 993/1988 [01:57<03:37,  4.58it/s]../utils/psix_functions.py:69: RuntimeWarning: invalid value encountered in double_scalars\n",
      "  return comb_1*comb_2*comb_3\n",
      " 96%|█████████▌| 1904/1988 [04:22<00:20,  4.16it/s]../utils/psix_functions.py:69: RuntimeWarning: overflow encountered in double_scalars\n",
      "  return comb_1*comb_2*comb_3\n",
      "100%|██████████| 1988/1988 [04:43<00:00,  7.00it/s]\n"
     ]
    }
   ],
   "source": [
    "psix_k_pd = pd.DataFrame()\n",
    "for k in [30, 35, 50, 150, 200, 300, 400]:\n",
    "\n",
    "    print('K = ' + str(k))\n",
    "    temp_W = W_tiklova = get_distance_matrix(tiklova_rd[['PC_1', 'PC_2']], k=k)\n",
    "    L_list = []\n",
    "    for exon in tqdm(tiklova_psix.index):\n",
    "        L = px.calculate_exon_L(tiklova_PSI, temp_W, tiklova_mrna_event, exon, c = 0.1, \n",
    "                     randomize = False)\n",
    "        L_list.append(L)\n",
    "\n",
    "    psix_k_pd['k_' + str(k)] = L_list\n"
   ]
  },
  {
   "cell_type": "code",
   "execution_count": 11,
   "metadata": {},
   "outputs": [],
   "source": [
    "psix_k_pd.index = tiklova_psix.index"
   ]
  },
  {
   "cell_type": "code",
   "execution_count": 12,
   "metadata": {},
   "outputs": [
    {
     "data": {
      "text/html": [
       "<div>\n",
       "<style scoped>\n",
       "    .dataframe tbody tr th:only-of-type {\n",
       "        vertical-align: middle;\n",
       "    }\n",
       "\n",
       "    .dataframe tbody tr th {\n",
       "        vertical-align: top;\n",
       "    }\n",
       "\n",
       "    .dataframe thead th {\n",
       "        text-align: right;\n",
       "    }\n",
       "</style>\n",
       "<table border=\"1\" class=\"dataframe\">\n",
       "  <thead>\n",
       "    <tr style=\"text-align: right;\">\n",
       "      <th></th>\n",
       "      <th>k_30</th>\n",
       "      <th>k_35</th>\n",
       "      <th>k_50</th>\n",
       "      <th>k_150</th>\n",
       "      <th>k_200</th>\n",
       "      <th>k_300</th>\n",
       "      <th>k_400</th>\n",
       "    </tr>\n",
       "  </thead>\n",
       "  <tbody>\n",
       "    <tr>\n",
       "      <th>Adap1_1</th>\n",
       "      <td>-0.018839</td>\n",
       "      <td>-0.007000</td>\n",
       "      <td>-0.013969</td>\n",
       "      <td>-0.005849</td>\n",
       "      <td>-0.010418</td>\n",
       "      <td>-0.008637</td>\n",
       "      <td>-0.008091</td>\n",
       "    </tr>\n",
       "    <tr>\n",
       "      <th>Aftph_4</th>\n",
       "      <td>-0.013502</td>\n",
       "      <td>-0.013900</td>\n",
       "      <td>-0.021077</td>\n",
       "      <td>-0.001778</td>\n",
       "      <td>0.000632</td>\n",
       "      <td>0.007008</td>\n",
       "      <td>0.010702</td>\n",
       "    </tr>\n",
       "    <tr>\n",
       "      <th>Agrn_8</th>\n",
       "      <td>0.011892</td>\n",
       "      <td>0.016140</td>\n",
       "      <td>0.025100</td>\n",
       "      <td>0.032033</td>\n",
       "      <td>0.030829</td>\n",
       "      <td>0.031437</td>\n",
       "      <td>0.033319</td>\n",
       "    </tr>\n",
       "    <tr>\n",
       "      <th>Agtpbp1_11</th>\n",
       "      <td>-0.043750</td>\n",
       "      <td>-0.049925</td>\n",
       "      <td>-0.039423</td>\n",
       "      <td>-0.006188</td>\n",
       "      <td>-0.006329</td>\n",
       "      <td>-0.004963</td>\n",
       "      <td>-0.002821</td>\n",
       "    </tr>\n",
       "    <tr>\n",
       "      <th>Aldh3a2_2</th>\n",
       "      <td>-0.041900</td>\n",
       "      <td>-0.039269</td>\n",
       "      <td>-0.034095</td>\n",
       "      <td>-0.014119</td>\n",
       "      <td>-0.008027</td>\n",
       "      <td>-0.010872</td>\n",
       "      <td>-0.012336</td>\n",
       "    </tr>\n",
       "    <tr>\n",
       "      <th>...</th>\n",
       "      <td>...</td>\n",
       "      <td>...</td>\n",
       "      <td>...</td>\n",
       "      <td>...</td>\n",
       "      <td>...</td>\n",
       "      <td>...</td>\n",
       "      <td>...</td>\n",
       "    </tr>\n",
       "    <tr>\n",
       "      <th>Mapt_1</th>\n",
       "      <td>2.329202</td>\n",
       "      <td>2.331960</td>\n",
       "      <td>2.327656</td>\n",
       "      <td>2.242984</td>\n",
       "      <td>2.195647</td>\n",
       "      <td>2.023024</td>\n",
       "      <td>1.691611</td>\n",
       "    </tr>\n",
       "    <tr>\n",
       "      <th>Meg3_2</th>\n",
       "      <td>0.286960</td>\n",
       "      <td>0.290233</td>\n",
       "      <td>0.301074</td>\n",
       "      <td>0.308858</td>\n",
       "      <td>0.309505</td>\n",
       "      <td>0.310224</td>\n",
       "      <td>0.307320</td>\n",
       "    </tr>\n",
       "    <tr>\n",
       "      <th>Nnat_2</th>\n",
       "      <td>0.617655</td>\n",
       "      <td>0.621530</td>\n",
       "      <td>0.622496</td>\n",
       "      <td>0.633542</td>\n",
       "      <td>0.625848</td>\n",
       "      <td>0.614538</td>\n",
       "      <td>0.593762</td>\n",
       "    </tr>\n",
       "    <tr>\n",
       "      <th>Nnat_3</th>\n",
       "      <td>0.556461</td>\n",
       "      <td>0.557040</td>\n",
       "      <td>0.559833</td>\n",
       "      <td>0.570559</td>\n",
       "      <td>0.564546</td>\n",
       "      <td>0.556413</td>\n",
       "      <td>0.535860</td>\n",
       "    </tr>\n",
       "    <tr>\n",
       "      <th>Nnat_6</th>\n",
       "      <td>0.464031</td>\n",
       "      <td>0.468314</td>\n",
       "      <td>0.475971</td>\n",
       "      <td>0.478977</td>\n",
       "      <td>0.468099</td>\n",
       "      <td>0.456629</td>\n",
       "      <td>0.425753</td>\n",
       "    </tr>\n",
       "  </tbody>\n",
       "</table>\n",
       "<p>1988 rows × 7 columns</p>\n",
       "</div>"
      ],
      "text/plain": [
       "                k_30      k_35      k_50     k_150     k_200     k_300  \\\n",
       "Adap1_1    -0.018839 -0.007000 -0.013969 -0.005849 -0.010418 -0.008637   \n",
       "Aftph_4    -0.013502 -0.013900 -0.021077 -0.001778  0.000632  0.007008   \n",
       "Agrn_8      0.011892  0.016140  0.025100  0.032033  0.030829  0.031437   \n",
       "Agtpbp1_11 -0.043750 -0.049925 -0.039423 -0.006188 -0.006329 -0.004963   \n",
       "Aldh3a2_2  -0.041900 -0.039269 -0.034095 -0.014119 -0.008027 -0.010872   \n",
       "...              ...       ...       ...       ...       ...       ...   \n",
       "Mapt_1      2.329202  2.331960  2.327656  2.242984  2.195647  2.023024   \n",
       "Meg3_2      0.286960  0.290233  0.301074  0.308858  0.309505  0.310224   \n",
       "Nnat_2      0.617655  0.621530  0.622496  0.633542  0.625848  0.614538   \n",
       "Nnat_3      0.556461  0.557040  0.559833  0.570559  0.564546  0.556413   \n",
       "Nnat_6      0.464031  0.468314  0.475971  0.478977  0.468099  0.456629   \n",
       "\n",
       "               k_400  \n",
       "Adap1_1    -0.008091  \n",
       "Aftph_4     0.010702  \n",
       "Agrn_8      0.033319  \n",
       "Agtpbp1_11 -0.002821  \n",
       "Aldh3a2_2  -0.012336  \n",
       "...              ...  \n",
       "Mapt_1      1.691611  \n",
       "Meg3_2      0.307320  \n",
       "Nnat_2      0.593762  \n",
       "Nnat_3      0.535860  \n",
       "Nnat_6      0.425753  \n",
       "\n",
       "[1988 rows x 7 columns]"
      ]
     },
     "execution_count": 12,
     "metadata": {},
     "output_type": "execute_result"
    }
   ],
   "source": [
    "psix_k_pd"
   ]
  },
  {
   "cell_type": "code",
   "execution_count": 15,
   "metadata": {},
   "outputs": [
    {
     "name": "stderr",
     "output_type": "stream",
     "text": [
      "100%|██████████| 200/200 [00:01<00:00, 122.16it/s]\n",
      "100%|██████████| 200/200 [00:01<00:00, 123.70it/s]\n",
      "100%|██████████| 200/200 [00:01<00:00, 125.83it/s]\n",
      "100%|██████████| 200/200 [00:01<00:00, 126.23it/s]\n",
      "100%|██████████| 200/200 [00:01<00:00, 125.79it/s]\n",
      "100%|██████████| 200/200 [00:01<00:00, 123.01it/s]\n",
      "100%|██████████| 200/200 [00:01<00:00, 123.01it/s]\n"
     ]
    },
    {
     "data": {
      "text/plain": [
       "Text(0.5, 1.0, 'Method comparison')"
      ]
     },
     "execution_count": 15,
     "metadata": {},
     "output_type": "execute_result"
    },
    {
     "data": {
      "image/png": "[encoded data removed]",
      "text/plain": [
       "<Figure size 432x288 with 1 Axes>"
      ]
     },
     "metadata": {
      "needs_background": "light"
     },
     "output_type": "display_data"
    }
   ],
   "source": [
    "from sklearn.metrics import auc\n",
    "\n",
    "weyn_pos = weyn_fdr.index[(weyn_ds.max(axis=1) >= 0.2) & (weyn_fdr.min(axis=1) <= 0.05)]\n",
    "weyn_neg = weyn_fdr.index[(weyn_ds.max(axis=1) < 0.2) | (weyn_fdr.min(axis=1) > 0.05)]\n",
    "\n",
    "exons = tiklova_psix.index\n",
    "exons_pos = weyn_pos & exons\n",
    "exons_neg = weyn_neg & exons\n",
    "\n",
    "\n",
    "psix_auc_list = []\n",
    "L_e2_auc = []\n",
    "for k in psix_k_pd.columns:\n",
    "    \n",
    "    psix_auc = []\n",
    "\n",
    "    for sample in tqdm(range(200)):\n",
    "    \n",
    "        pos_choice = np.random.choice(exons_pos, np.int(0.5*len(exons_pos)), replace=False)\n",
    "        neg_choice = np.random.choice(exons_neg, np.int(0.5*len(exons_neg)), replace=False)\n",
    "\n",
    "    \n",
    "       \n",
    "\n",
    "        y = [1]*len(pos_choice) + [0]*len(neg_choice)\n",
    "        psix_y = list(psix_k_pd.loc[pos_choice, k]) + list(psix_k_pd.loc[neg_choice, k])\n",
    "        pre, rec, thres = precision_recall_curve(y, psix_y)\n",
    "        psix_auc.append(auc(rec, pre))\n",
    "        \n",
    "        \n",
    "        y = [1]*len(pos_choice) + [0]*len(neg_choice)\n",
    "        psix_y = list(tiklova_psix.loc[pos_choice].L_score) + list(tiklova_psix.loc[neg_choice].L_score)\n",
    "        pre, rec, thres = precision_recall_curve(y, psix_y)\n",
    "        L_e2_auc.append(auc(rec, pre))\n",
    "        \n",
    "        \n",
    "    psix_auc_list.append(psix_auc)\n",
    "    \n",
    "    \n",
    "bp = plt.boxplot(\n",
    "    psix_auc_list + [L_e2_auc]\n",
    ")\n",
    "\n",
    "\n",
    "plt.xticks(np.arange(1, 9), \n",
    "           ['30', '35', '50', '150', '200', '300', '400', '100'], fontsize=14, rotation=90)\n",
    "\n",
    "plt.ylabel('AUC ROC curve', fontsize=14)\n",
    "# plt.xlabel('Method', fontsize=14)\n",
    "plt.title('Method comparison', fontsize=14)\n"
   ]
  },
  {
   "cell_type": "code",
   "execution_count": 30,
   "metadata": {},
   "outputs": [
    {
     "data": {
      "text/plain": [
       "0.5772765246449457"
      ]
     },
     "execution_count": 30,
     "metadata": {},
     "output_type": "execute_result"
    }
   ],
   "source": [
    "tiklova_PSI.loc[tiklova_psix.index].isna().mean(axis=1).median()"
   ]
  },
  {
   "cell_type": "code",
   "execution_count": 32,
   "metadata": {},
   "outputs": [
    {
     "data": {
      "text/plain": [
       "140.0"
      ]
     },
     "execution_count": 32,
     "metadata": {},
     "output_type": "execute_result"
    }
   ],
   "source": [
    "35/.25"
   ]
  },
  {
   "cell_type": "code",
   "execution_count": 3,
   "metadata": {},
   "outputs": [],
   "source": [
    "chen_brie = pd.read_csv('~/data_sc_regulation/chen_extended/brie2/brie_output_ordered/brie_quant_cell.brie_ident.tsv', \n",
    "                           sep='\\t', index_col=0)\n",
    "chen_brie_pseudo = pd.read_csv('~/data_sc_regulation/chen_extended/brie2/brie_output_pseudotime/brie_quant_cell.brie_ident.tsv', \n",
    "                                  sep='\\t', index_col=0)\n",
    "\n",
    "tiklova_brie = pd.read_csv('~/data_sc_regulation/tiklova_extended/brie2/brie_output_ordered/brie_quant_cell.brie_ident.tsv', \n",
    "                           sep='\\t', index_col=0)\n",
    "tiklova_brie_pseudo = pd.read_csv('~/data_sc_regulation/tiklova_extended/brie2/brie_output_pseudotime/brie_quant_cell.brie_ident.tsv', \n",
    "                                  sep='\\t', index_col=0)"
   ]
  },
  {
   "cell_type": "code",
   "execution_count": 8,
   "metadata": {},
   "outputs": [
    {
     "data": {
      "text/html": [
       "<div>\n",
       "<style scoped>\n",
       "    .dataframe tbody tr th:only-of-type {\n",
       "        vertical-align: middle;\n",
       "    }\n",
       "\n",
       "    .dataframe tbody tr th {\n",
       "        vertical-align: top;\n",
       "    }\n",
       "\n",
       "    .dataframe thead th {\n",
       "        text-align: right;\n",
       "    }\n",
       "</style>\n",
       "<table border=\"1\" class=\"dataframe\">\n",
       "  <thead>\n",
       "    <tr style=\"text-align: right;\">\n",
       "      <th></th>\n",
       "      <th>bin</th>\n",
       "      <th>L_score</th>\n",
       "      <th>pvals</th>\n",
       "      <th>qvals</th>\n",
       "      <th>norm_pvals</th>\n",
       "      <th>norm_qvals</th>\n",
       "    </tr>\n",
       "  </thead>\n",
       "  <tbody>\n",
       "    <tr>\n",
       "      <th>Cadm1_3</th>\n",
       "      <td>mean_2_var_5</td>\n",
       "      <td>1.162232</td>\n",
       "      <td>0.000999</td>\n",
       "      <td>0.003769</td>\n",
       "      <td>0.000000e+00</td>\n",
       "      <td>0.000000e+00</td>\n",
       "    </tr>\n",
       "    <tr>\n",
       "      <th>Cadm1_2</th>\n",
       "      <td>mean_4_var_1</td>\n",
       "      <td>0.141789</td>\n",
       "      <td>0.000999</td>\n",
       "      <td>0.003769</td>\n",
       "      <td>1.914609e-16</td>\n",
       "      <td>1.684178e-15</td>\n",
       "    </tr>\n",
       "    <tr>\n",
       "      <th>Cadm1_10</th>\n",
       "      <td>mean_4_var_2</td>\n",
       "      <td>1.416342</td>\n",
       "      <td>0.000999</td>\n",
       "      <td>0.003769</td>\n",
       "      <td>0.000000e+00</td>\n",
       "      <td>0.000000e+00</td>\n",
       "    </tr>\n",
       "    <tr>\n",
       "      <th>Cadm1_4</th>\n",
       "      <td>mean_4_var_2</td>\n",
       "      <td>0.225553</td>\n",
       "      <td>0.000999</td>\n",
       "      <td>0.003769</td>\n",
       "      <td>3.481713e-46</td>\n",
       "      <td>5.165406e-45</td>\n",
       "    </tr>\n",
       "  </tbody>\n",
       "</table>\n",
       "</div>"
      ],
      "text/plain": [
       "                   bin   L_score     pvals     qvals    norm_pvals  \\\n",
       "Cadm1_3   mean_2_var_5  1.162232  0.000999  0.003769  0.000000e+00   \n",
       "Cadm1_2   mean_4_var_1  0.141789  0.000999  0.003769  1.914609e-16   \n",
       "Cadm1_10  mean_4_var_2  1.416342  0.000999  0.003769  0.000000e+00   \n",
       "Cadm1_4   mean_4_var_2  0.225553  0.000999  0.003769  3.481713e-46   \n",
       "\n",
       "            norm_qvals  \n",
       "Cadm1_3   0.000000e+00  \n",
       "Cadm1_2   1.684178e-15  \n",
       "Cadm1_10  0.000000e+00  \n",
       "Cadm1_4   5.165406e-45  "
      ]
     },
     "execution_count": 8,
     "metadata": {},
     "output_type": "execute_result"
    }
   ],
   "source": [
    "tiklova_psix.loc[[x for x in tiklova_psix.index if 'Cadm1' in x]]"
   ]
  },
  {
   "cell_type": "code",
   "execution_count": 7,
   "metadata": {},
   "outputs": [
    {
     "data": {
      "text/html": [
       "<div>\n",
       "<style scoped>\n",
       "    .dataframe tbody tr th:only-of-type {\n",
       "        vertical-align: middle;\n",
       "    }\n",
       "\n",
       "    .dataframe tbody tr th {\n",
       "        vertical-align: top;\n",
       "    }\n",
       "\n",
       "    .dataframe thead th {\n",
       "        text-align: right;\n",
       "    }\n",
       "</style>\n",
       "<table border=\"1\" class=\"dataframe\">\n",
       "  <thead>\n",
       "    <tr style=\"text-align: right;\">\n",
       "      <th></th>\n",
       "      <th>n_counts</th>\n",
       "      <th>n_counts_uniq</th>\n",
       "      <th>cdr</th>\n",
       "      <th>intercept</th>\n",
       "      <th>sigma</th>\n",
       "      <th>neuro_ceoff</th>\n",
       "      <th>neuro_ELBO_gain</th>\n",
       "      <th>neuro_pval</th>\n",
       "      <th>neuro_FDR</th>\n",
       "    </tr>\n",
       "    <tr>\n",
       "      <th>GeneID</th>\n",
       "      <th></th>\n",
       "      <th></th>\n",
       "      <th></th>\n",
       "      <th></th>\n",
       "      <th></th>\n",
       "      <th></th>\n",
       "      <th></th>\n",
       "      <th></th>\n",
       "      <th></th>\n",
       "    </tr>\n",
       "  </thead>\n",
       "  <tbody>\n",
       "    <tr>\n",
       "      <th>Cadm1_2</th>\n",
       "      <td>330444</td>\n",
       "      <td>68339</td>\n",
       "      <td>0.9566</td>\n",
       "      <td>-3.204</td>\n",
       "      <td>2.329</td>\n",
       "      <td>-0.70130</td>\n",
       "      <td>48.220</td>\n",
       "      <td>9.211000e-23</td>\n",
       "      <td>1.925000e-21</td>\n",
       "    </tr>\n",
       "    <tr>\n",
       "      <th>Cadm1_3</th>\n",
       "      <td>368201</td>\n",
       "      <td>13002</td>\n",
       "      <td>0.9591</td>\n",
       "      <td>-2.615</td>\n",
       "      <td>1.896</td>\n",
       "      <td>-0.68700</td>\n",
       "      <td>70.710</td>\n",
       "      <td>1.301000e-32</td>\n",
       "      <td>3.885000e-31</td>\n",
       "    </tr>\n",
       "    <tr>\n",
       "      <th>Cadm1_4</th>\n",
       "      <td>208963</td>\n",
       "      <td>60157</td>\n",
       "      <td>0.9490</td>\n",
       "      <td>-2.762</td>\n",
       "      <td>2.609</td>\n",
       "      <td>0.05805</td>\n",
       "      <td>2.078</td>\n",
       "      <td>4.148000e-02</td>\n",
       "      <td>8.584000e-02</td>\n",
       "    </tr>\n",
       "    <tr>\n",
       "      <th>Cadm1_9</th>\n",
       "      <td>176378</td>\n",
       "      <td>44883</td>\n",
       "      <td>0.9474</td>\n",
       "      <td>5.957</td>\n",
       "      <td>1.750</td>\n",
       "      <td>-0.47290</td>\n",
       "      <td>11.420</td>\n",
       "      <td>1.757000e-06</td>\n",
       "      <td>9.665000e-06</td>\n",
       "    </tr>\n",
       "    <tr>\n",
       "      <th>Cadm1_10</th>\n",
       "      <td>408608</td>\n",
       "      <td>53409</td>\n",
       "      <td>0.9616</td>\n",
       "      <td>3.772</td>\n",
       "      <td>1.554</td>\n",
       "      <td>-0.99940</td>\n",
       "      <td>227.800</td>\n",
       "      <td>4.238000e-101</td>\n",
       "      <td>8.858000e-99</td>\n",
       "    </tr>\n",
       "  </tbody>\n",
       "</table>\n",
       "</div>"
      ],
      "text/plain": [
       "          n_counts  n_counts_uniq     cdr  intercept  sigma  neuro_ceoff  \\\n",
       "GeneID                                                                     \n",
       "Cadm1_2     330444          68339  0.9566     -3.204  2.329     -0.70130   \n",
       "Cadm1_3     368201          13002  0.9591     -2.615  1.896     -0.68700   \n",
       "Cadm1_4     208963          60157  0.9490     -2.762  2.609      0.05805   \n",
       "Cadm1_9     176378          44883  0.9474      5.957  1.750     -0.47290   \n",
       "Cadm1_10    408608          53409  0.9616      3.772  1.554     -0.99940   \n",
       "\n",
       "          neuro_ELBO_gain     neuro_pval     neuro_FDR  \n",
       "GeneID                                                  \n",
       "Cadm1_2            48.220   9.211000e-23  1.925000e-21  \n",
       "Cadm1_3            70.710   1.301000e-32  3.885000e-31  \n",
       "Cadm1_4             2.078   4.148000e-02  8.584000e-02  \n",
       "Cadm1_9            11.420   1.757000e-06  9.665000e-06  \n",
       "Cadm1_10          227.800  4.238000e-101  8.858000e-99  "
      ]
     },
     "execution_count": 7,
     "metadata": {},
     "output_type": "execute_result"
    }
   ],
   "source": [
    "tiklova_brie.loc[[x for x in tiklova_brie.index if 'Cadm1' in x]]"
   ]
  },
  {
   "cell_type": "code",
   "execution_count": 4,
   "metadata": {},
   "outputs": [
    {
     "data": {
      "text/plain": [
       "<matplotlib.collections.PathCollection at 0x7fd2496d5690>"
      ]
     },
     "execution_count": 4,
     "metadata": {},
     "output_type": "execute_result"
    },
    {
     "data": {
      "image/png": "[encoded data removed]",
      "text/plain": [
       "<Figure size 432x288 with 1 Axes>"
      ]
     },
     "metadata": {
      "needs_background": "light"
     },
     "output_type": "display_data"
    }
   ],
   "source": [
    "plt.scatter(tiklova_brie.neuro_ELBO_gain, tiklova_brie_pseudo.neuro_ELBO_gain)"
   ]
  },
  {
   "cell_type": "code",
   "execution_count": 32,
   "metadata": {},
   "outputs": [
    {
     "data": {
      "text/html": [
       "<div>\n",
       "<style scoped>\n",
       "    .dataframe tbody tr th:only-of-type {\n",
       "        vertical-align: middle;\n",
       "    }\n",
       "\n",
       "    .dataframe tbody tr th {\n",
       "        vertical-align: top;\n",
       "    }\n",
       "\n",
       "    .dataframe thead th {\n",
       "        text-align: right;\n",
       "    }\n",
       "</style>\n",
       "<table border=\"1\" class=\"dataframe\">\n",
       "  <thead>\n",
       "    <tr style=\"text-align: right;\">\n",
       "      <th></th>\n",
       "      <th>bin</th>\n",
       "      <th>L_score</th>\n",
       "      <th>pvals</th>\n",
       "      <th>qvals</th>\n",
       "      <th>norm_pvals</th>\n",
       "      <th>norm_qvals</th>\n",
       "      <th>L_reads</th>\n",
       "    </tr>\n",
       "  </thead>\n",
       "  <tbody>\n",
       "    <tr>\n",
       "      <th>Adap1_1</th>\n",
       "      <td>mean_1_var_1</td>\n",
       "      <td>-0.006227</td>\n",
       "      <td>0.356643</td>\n",
       "      <td>0.488633</td>\n",
       "      <td>3.416702e-01</td>\n",
       "      <td>4.803680e-01</td>\n",
       "      <td>-0.016926</td>\n",
       "    </tr>\n",
       "    <tr>\n",
       "      <th>Aftph_4</th>\n",
       "      <td>mean_1_var_1</td>\n",
       "      <td>-0.004544</td>\n",
       "      <td>0.304695</td>\n",
       "      <td>0.439256</td>\n",
       "      <td>2.921742e-01</td>\n",
       "      <td>4.305725e-01</td>\n",
       "      <td>-0.039622</td>\n",
       "    </tr>\n",
       "    <tr>\n",
       "      <th>Agrn_8</th>\n",
       "      <td>mean_1_var_1</td>\n",
       "      <td>0.028174</td>\n",
       "      <td>0.000999</td>\n",
       "      <td>0.003769</td>\n",
       "      <td>5.728122e-04</td>\n",
       "      <td>2.198360e-03</td>\n",
       "      <td>-0.032576</td>\n",
       "    </tr>\n",
       "    <tr>\n",
       "      <th>Agtpbp1_11</th>\n",
       "      <td>mean_1_var_1</td>\n",
       "      <td>-0.014189</td>\n",
       "      <td>0.636364</td>\n",
       "      <td>0.753928</td>\n",
       "      <td>5.988674e-01</td>\n",
       "      <td>7.095044e-01</td>\n",
       "      <td>-0.032209</td>\n",
       "    </tr>\n",
       "    <tr>\n",
       "      <th>Aldh3a2_2</th>\n",
       "      <td>mean_1_var_1</td>\n",
       "      <td>-0.023037</td>\n",
       "      <td>0.836164</td>\n",
       "      <td>0.899510</td>\n",
       "      <td>8.369178e-01</td>\n",
       "      <td>8.888376e-01</td>\n",
       "      <td>-0.016152</td>\n",
       "    </tr>\n",
       "    <tr>\n",
       "      <th>...</th>\n",
       "      <td>...</td>\n",
       "      <td>...</td>\n",
       "      <td>...</td>\n",
       "      <td>...</td>\n",
       "      <td>...</td>\n",
       "      <td>...</td>\n",
       "      <td>...</td>\n",
       "    </tr>\n",
       "    <tr>\n",
       "      <th>Mapt_1</th>\n",
       "      <td>mean_4_var_4</td>\n",
       "      <td>2.289777</td>\n",
       "      <td>0.000999</td>\n",
       "      <td>0.003769</td>\n",
       "      <td>0.000000e+00</td>\n",
       "      <td>0.000000e+00</td>\n",
       "      <td>1.987172</td>\n",
       "    </tr>\n",
       "    <tr>\n",
       "      <th>Meg3_2</th>\n",
       "      <td>mean_5_var_1</td>\n",
       "      <td>0.308309</td>\n",
       "      <td>0.000999</td>\n",
       "      <td>0.003769</td>\n",
       "      <td>8.209725e-95</td>\n",
       "      <td>1.897783e-93</td>\n",
       "      <td>0.237332</td>\n",
       "    </tr>\n",
       "    <tr>\n",
       "      <th>Nnat_2</th>\n",
       "      <td>mean_5_var_1</td>\n",
       "      <td>0.634678</td>\n",
       "      <td>0.000999</td>\n",
       "      <td>0.003769</td>\n",
       "      <td>0.000000e+00</td>\n",
       "      <td>0.000000e+00</td>\n",
       "      <td>0.532083</td>\n",
       "    </tr>\n",
       "    <tr>\n",
       "      <th>Nnat_3</th>\n",
       "      <td>mean_5_var_1</td>\n",
       "      <td>0.571904</td>\n",
       "      <td>0.000999</td>\n",
       "      <td>0.003769</td>\n",
       "      <td>0.000000e+00</td>\n",
       "      <td>0.000000e+00</td>\n",
       "      <td>0.481867</td>\n",
       "    </tr>\n",
       "    <tr>\n",
       "      <th>Nnat_6</th>\n",
       "      <td>mean_5_var_1</td>\n",
       "      <td>0.482136</td>\n",
       "      <td>0.000999</td>\n",
       "      <td>0.003769</td>\n",
       "      <td>8.293742e-237</td>\n",
       "      <td>3.508076e-235</td>\n",
       "      <td>0.356381</td>\n",
       "    </tr>\n",
       "  </tbody>\n",
       "</table>\n",
       "<p>1988 rows × 7 columns</p>\n",
       "</div>"
      ],
      "text/plain": [
       "                     bin   L_score     pvals     qvals     norm_pvals  \\\n",
       "Adap1_1     mean_1_var_1 -0.006227  0.356643  0.488633   3.416702e-01   \n",
       "Aftph_4     mean_1_var_1 -0.004544  0.304695  0.439256   2.921742e-01   \n",
       "Agrn_8      mean_1_var_1  0.028174  0.000999  0.003769   5.728122e-04   \n",
       "Agtpbp1_11  mean_1_var_1 -0.014189  0.636364  0.753928   5.988674e-01   \n",
       "Aldh3a2_2   mean_1_var_1 -0.023037  0.836164  0.899510   8.369178e-01   \n",
       "...                  ...       ...       ...       ...            ...   \n",
       "Mapt_1      mean_4_var_4  2.289777  0.000999  0.003769   0.000000e+00   \n",
       "Meg3_2      mean_5_var_1  0.308309  0.000999  0.003769   8.209725e-95   \n",
       "Nnat_2      mean_5_var_1  0.634678  0.000999  0.003769   0.000000e+00   \n",
       "Nnat_3      mean_5_var_1  0.571904  0.000999  0.003769   0.000000e+00   \n",
       "Nnat_6      mean_5_var_1  0.482136  0.000999  0.003769  8.293742e-237   \n",
       "\n",
       "               norm_qvals   L_reads  \n",
       "Adap1_1      4.803680e-01 -0.016926  \n",
       "Aftph_4      4.305725e-01 -0.039622  \n",
       "Agrn_8       2.198360e-03 -0.032576  \n",
       "Agtpbp1_11   7.095044e-01 -0.032209  \n",
       "Aldh3a2_2    8.888376e-01 -0.016152  \n",
       "...                   ...       ...  \n",
       "Mapt_1       0.000000e+00  1.987172  \n",
       "Meg3_2       1.897783e-93  0.237332  \n",
       "Nnat_2       0.000000e+00  0.532083  \n",
       "Nnat_3       0.000000e+00  0.481867  \n",
       "Nnat_6      3.508076e-235  0.356381  \n",
       "\n",
       "[1988 rows x 7 columns]"
      ]
     },
     "execution_count": 32,
     "metadata": {},
     "output_type": "execute_result"
    }
   ],
   "source": [
    "tiklova_psix"
   ]
  },
  {
   "cell_type": "code",
   "execution_count": 18,
   "metadata": {},
   "outputs": [
    {
     "name": "stderr",
     "output_type": "stream",
     "text": [
      "100%|██████████| 500/500 [00:30<00:00, 16.41it/s]\n"
     ]
    }
   ],
   "source": [
    "from sklearn.metrics import auc\n",
    "\n",
    "weyn_pos = weyn_fdr.index[(weyn_ds.max(axis=1) >= 0.2) & (weyn_fdr.min(axis=1) <= 0.05)]\n",
    "weyn_neg = weyn_fdr.index[(weyn_ds.max(axis=1) < 0.2) | (weyn_fdr.min(axis=1) > 0.05)]\n",
    "\n",
    "exons = tiklova_psix.index\n",
    "exons_pos = weyn_pos & exons\n",
    "exons_neg = weyn_neg & exons\n",
    "\n",
    "\n",
    "kw_auc = []\n",
    "L_e2_auc = []\n",
    "# L_reads_auc = []\n",
    "\n",
    "c_auc = []\n",
    "brie_auc = []\n",
    "briep_auc = []\n",
    "\n",
    "for sample in tqdm(range(500)):\n",
    "    pos_choice = np.random.choice(exons_pos, np.int(0.5*len(exons_pos)), replace=False)\n",
    "    neg_choice = np.random.choice(exons_neg, np.int(0.5*len(exons_neg)), replace=False)\n",
    "    \n",
    "    \n",
    "    y = [1]*len(pd.Index(pos_choice) & tiklova_geary.index) + [0]*len(pd.Index(neg_choice) & tiklova_geary.index)\n",
    "    c_y = list(tiklova_geary.loc[pd.Index(pos_choice) & tiklova_geary.index].C_score) + list(tiklova_geary.loc[pd.Index(neg_choice) & tiklova_geary.index].C_score)\n",
    "    pre, rec, thres = precision_recall_curve(y, c_y)\n",
    "    c_auc.append(auc(rec, pre))\n",
    "\n",
    "    y = [1]*len(pos_choice) + [0]*len(neg_choice)\n",
    "    psix_y = list(tiklova_psix.loc[pos_choice].L_score) + list(tiklova_psix.loc[neg_choice].L_score)\n",
    "    pre, rec, thres = precision_recall_curve(y, psix_y)\n",
    "    L_e2_auc.append(auc(rec, pre))\n",
    "    \n",
    "    \n",
    "    \n",
    "    kw_y = list(tiklova_kw.loc[pos_choice].KW_score) + list(tiklova_kw.loc[neg_choice].KW_score)\n",
    "    pre, rec, thres = precision_recall_curve(y, kw_y)\n",
    "    kw_auc.append(auc(rec, pre))\n",
    "    \n",
    "#     r_y = list(tiklova_psix.loc[pos_choice].L_reads) + list(tiklova_psix.loc[neg_choice].L_reads)\n",
    "#     pre, rec, thres = precision_recall_curve(y, r_y)\n",
    "#     L_reads_auc.append(auc(rec, pre))\n",
    "    \n",
    "    y = [1]*len(pd.Index(pos_choice) & tiklova_brie.index) + [0]*len(pd.Index(neg_choice) & tiklova_brie.index)\n",
    "    brie_y = list(tiklova_brie.loc[pd.Index(pos_choice) & tiklova_brie.index].neuro_ELBO_gain) + list(tiklova_brie.loc[pd.Index(neg_choice) & tiklova_brie.index].neuro_ELBO_gain)\n",
    "    pre, rec, thres = precision_recall_curve(y, brie_y)\n",
    "    brie_auc.append(auc(rec, pre))\n",
    "    \n",
    "    y = [1]*len(pd.Index(pos_choice) & tiklova_brie_pseudo.index) + [0]*len(pd.Index(neg_choice) & tiklova_brie_pseudo.index)\n",
    "    brie_y = list(tiklova_brie_pseudo.loc[pd.Index(pos_choice) & tiklova_brie.index].neuro_ELBO_gain) + list(tiklova_brie_pseudo.loc[pd.Index(neg_choice) & tiklova_brie.index].neuro_ELBO_gain)\n",
    "    pre, rec, thres = precision_recall_curve(y, brie_y)\n",
    "    briep_auc.append(auc(rec, pre))\n",
    "    \n",
    "    \n",
    "\n"
   ]
  },
  {
   "cell_type": "code",
   "execution_count": 19,
   "metadata": {},
   "outputs": [
    {
     "data": {
      "text/plain": [
       "Text(0.5, 1.0, 'Method comparison, Tiklova dataset')"
      ]
     },
     "execution_count": 19,
     "metadata": {},
     "output_type": "execute_result"
    },
    {
     "data": {
      "image/png": "[encoded data removed]",
      "text/plain": [
       "<Figure size 432x288 with 1 Axes>"
      ]
     },
     "metadata": {
      "needs_background": "light"
     },
     "output_type": "display_data"
    }
   ],
   "source": [
    "bp = plt.boxplot([brie_auc, kw_auc, L_e2_auc, c_auc])\n",
    "\n",
    "\n",
    "plt.xticks(np.arange(1, 5), \n",
    "           ['Brie2', 'KW', 'Psix', \"Geary's C\"], fontsize=14, rotation=90)\n",
    "\n",
    "plt.ylabel('AUC pre-rec curve', fontsize=14)\n",
    "# plt.xlabel('Method', fontsize=14)\n",
    "plt.title('Method comparison, Tiklova dataset', fontsize=14)"
   ]
  },
  {
   "cell_type": "code",
   "execution_count": 13,
   "metadata": {},
   "outputs": [
    {
     "name": "stderr",
     "output_type": "stream",
     "text": [
      "100%|██████████| 500/500 [00:27<00:00, 17.94it/s]\n"
     ]
    }
   ],
   "source": [
    "from sklearn.metrics import auc\n",
    "\n",
    "hubbard_pos = hubbard_fdr.index[(hubbard_ds.max(axis=1) >= 0.2) & (hubbard_fdr.min(axis=1) <= 0.05)]\n",
    "hubbard_neg = hubbard_fdr.index[(hubbard_ds.max(axis=1) < 0.2) | (hubbard_fdr.min(axis=1) > 0.05)]\n",
    "\n",
    "exons = chen_psix.index\n",
    "exons_pos = hubbard_pos & exons\n",
    "exons_neg = hubbard_neg & exons\n",
    "\n",
    "\n",
    "kw_auc = []\n",
    "L_e2_auc = []\n",
    "# L_reads_auc = []\n",
    "\n",
    "c_auc = []\n",
    "brie_auc = []\n",
    "briep_auc = []\n",
    "\n",
    "for sample in tqdm(range(500)):\n",
    "    pos_choice = np.random.choice(exons_pos, np.int(0.5*len(exons_pos)), replace=False)\n",
    "    neg_choice = np.random.choice(exons_neg, np.int(0.5*len(exons_neg)), replace=False)\n",
    "    \n",
    "    \n",
    "    y = [1]*len(pd.Index(pos_choice) & chen_geary.index) + [0]*len(pd.Index(neg_choice) & chen_geary.index)\n",
    "    c_y = list(chen_geary.loc[pd.Index(pos_choice) & chen_geary.index].C_score) + list(chen_geary.loc[pd.Index(neg_choice) & chen_geary.index].C_score)\n",
    "    pre, rec, thres = precision_recall_curve(y, c_y)\n",
    "    c_auc.append(auc(rec, pre))\n",
    "\n",
    "    y = [1]*len(pos_choice) + [0]*len(neg_choice)\n",
    "    psix_y = list(chen_psix.loc[pos_choice].L_score) + list(chen_psix.loc[neg_choice].L_score)\n",
    "    pre, rec, thres = precision_recall_curve(y, psix_y)\n",
    "    L_e2_auc.append(auc(rec, pre))\n",
    "    \n",
    "    \n",
    "    \n",
    "    kw_y = list(chen_kw.loc[pos_choice].KW_score) + list(chen_kw.loc[neg_choice].KW_score)\n",
    "    pre, rec, thres = precision_recall_curve(y, kw_y)\n",
    "    kw_auc.append(auc(rec, pre))\n",
    "    \n",
    "#     r_y = list(chen_psix.loc[pos_choice].L_reads) + list(chen_psix.loc[neg_choice].L_reads)\n",
    "#     pre, rec, thres = precision_recall_curve(y, r_y)\n",
    "#     L_reads_auc.append(auc(rec, pre))\n",
    "    \n",
    "    y = [1]*len(pd.Index(pos_choice) & chen_brie.index) + [0]*len(pd.Index(neg_choice) & chen_brie.index)\n",
    "    brie_y = list(chen_brie.loc[pd.Index(pos_choice) & chen_brie.index].neuro_ELBO_gain) + list(chen_brie.loc[pd.Index(neg_choice) & chen_brie.index].neuro_ELBO_gain)\n",
    "    pre, rec, thres = precision_recall_curve(y, brie_y)\n",
    "    brie_auc.append(auc(rec, pre))\n",
    "    \n",
    "    y = [1]*len(pd.Index(pos_choice) & chen_brie_pseudo.index) + [0]*len(pd.Index(neg_choice) & chen_brie_pseudo.index)\n",
    "    brie_y = list(chen_brie_pseudo.loc[pd.Index(pos_choice) & chen_brie.index].neuro_ELBO_gain) + list(chen_brie_pseudo.loc[pd.Index(neg_choice) & chen_brie.index].neuro_ELBO_gain)\n",
    "    pre, rec, thres = precision_recall_curve(y, brie_y)\n",
    "    briep_auc.append(auc(rec, pre))\n",
    "    \n",
    "    \n",
    "\n"
   ]
  },
  {
   "cell_type": "code",
   "execution_count": 15,
   "metadata": {},
   "outputs": [
    {
     "data": {
      "text/plain": [
       "Text(0.5, 1.0, 'Method comparison, Chen dataset')"
      ]
     },
     "execution_count": 15,
     "metadata": {},
     "output_type": "execute_result"
    },
    {
     "data": {
      "image/png": "[encoded data removed]",
      "text/plain": [
       "<Figure size 432x288 with 1 Axes>"
      ]
     },
     "metadata": {
      "needs_background": "light"
     },
     "output_type": "display_data"
    }
   ],
   "source": [
    "bp = plt.boxplot([briep_auc, kw_auc, L_e2_auc, c_auc])\n",
    "\n",
    "\n",
    "plt.xticks(np.arange(1, 5), \n",
    "           ['Brie2', 'KW', 'Psix', \"Geary's C\"], fontsize=14, rotation=90)\n",
    "\n",
    "plt.ylabel('AUC pre-rec curve', fontsize=14)\n",
    "# plt.xlabel('Method', fontsize=14)\n",
    "plt.title('Method comparison, Chen dataset', fontsize=14)"
   ]
  },
  {
   "cell_type": "code",
   "execution_count": null,
   "metadata": {},
   "outputs": [],
   "source": []
  },
  {
   "cell_type": "code",
   "execution_count": 46,
   "metadata": {},
   "outputs": [
    {
     "name": "stderr",
     "output_type": "stream",
     "text": [
      "100%|██████████| 100/100 [00:02<00:00, 35.59it/s]\n"
     ]
    },
    {
     "data": {
      "text/plain": [
       "Text(0.5, 1.0, 'Method comparison, Tiklova dataset')"
      ]
     },
     "execution_count": 46,
     "metadata": {},
     "output_type": "execute_result"
    },
    {
     "data": {
      "image/png": "[encoded data removed]",
      "text/plain": [
       "<Figure size 432x288 with 1 Axes>"
      ]
     },
     "metadata": {
      "needs_background": "light"
     },
     "output_type": "display_data"
    }
   ],
   "source": [
    "from sklearn.metrics import auc\n",
    "\n",
    "hubbard_pos = hubbard_fdr.index[(hubbard_ds.max(axis=1) >= 0.2) & (hubbard_fdr.min(axis=1) <= 0.05)]\n",
    "hubbard_neg = hubbard_fdr.index[(hubbard_ds.max(axis=1) < 0.2) | (hubbard_fdr.min(axis=1) > 0.05)]\n",
    "\n",
    "exons = tiklova_psix.index\n",
    "exons_pos = hubbard_pos & exons\n",
    "exons_neg = hubbard_neg & exons\n",
    "\n",
    "\n",
    "kw_auc = []\n",
    "L_e2_auc = []\n",
    "L_reads_auc = []\n",
    "\n",
    "c_auc = []\n",
    "\n",
    "brie_auc = []\n",
    "\n",
    "for sample in tqdm(range(100)):\n",
    "    pos_choice = np.random.choice(exons_pos, np.int(0.5*len(exons_pos)), replace=False)\n",
    "    neg_choice = np.random.choice(exons_neg, np.int(0.5*len(exons_neg)), replace=False)\n",
    "    \n",
    "    y = [1]*len(pd.Index(pos_choice) & tiklova_geary.index) + [0]*len(pd.Index(neg_choice) & tiklova_geary.index)\n",
    "    c_y = list(tiklova_geary.loc[pd.Index(pos_choice) & tiklova_geary.index].C_score) + list(tiklova_geary.loc[pd.Index(neg_choice) & tiklova_geary.index].C_score)\n",
    "    pre, rec, thres = precision_recall_curve(y, c_y)\n",
    "    c_auc.append(auc(rec, pre))\n",
    "    \n",
    "\n",
    "    y = [1]*len(pos_choice) + [0]*len(neg_choice)\n",
    "    psix_y = list(tiklova_psix.loc[pos_choice].L_score) + list(tiklova_psix.loc[neg_choice].L_score)\n",
    "    pre, rec, thres = precision_recall_curve(y, psix_y)\n",
    "    L_e2_auc.append(auc(rec, pre))\n",
    "    \n",
    "    \n",
    "    kw_y = list(tiklova_kw.loc[pos_choice].KW_score) + list(tiklova_kw.loc[neg_choice].KW_score)\n",
    "    pre, rec, thres = precision_recall_curve(y, kw_y)\n",
    "    kw_auc.append(auc(rec, pre))\n",
    "    \n",
    "    r_y = list(tiklova_psix.loc[pos_choice].L_reads) + list(tiklova_psix.loc[neg_choice].L_reads)\n",
    "    pre, rec, thres = precision_recall_curve(y, r_y)\n",
    "    L_reads_auc.append(auc(rec, pre))\n",
    "    \n",
    "    brie_y = list(-tiklova_brie.loc[pos_choice].neuro_pval) + list(-tiklova_brie.loc[neg_choice].neuro_pval)\n",
    "    pre, rec, thres = precision_recall_curve(y, brie_y)\n",
    "    brie_auc.append(auc(rec, pre))\n",
    "    \n",
    "bp = plt.boxplot(\n",
    "    [kw_auc, L_reads_auc, L_e2_auc, c_auc, brie_auc]\n",
    ")\n",
    "\n",
    "\n",
    "plt.xticks(np.arange(1, 6), \n",
    "           ['KW', 'Psix reads', '1e-2', \"geary's C\", 'brie'], fontsize=14, rotation=90)\n",
    "\n",
    "plt.ylabel('AUC pre-rec curve', fontsize=14)\n",
    "# plt.xlabel('Method', fontsize=14)\n",
    "plt.title('Method comparison, Tiklova dataset', fontsize=14)\n"
   ]
  },
  {
   "cell_type": "code",
   "execution_count": 79,
   "metadata": {},
   "outputs": [
    {
     "data": {
      "text/plain": [
       "<matplotlib.collections.PathCollection at 0x7fccfc35d690>"
      ]
     },
     "execution_count": 79,
     "metadata": {},
     "output_type": "execute_result"
    },
    {
     "data": {
      "image/png": "[encoded data removed]",
      "text/plain": [
       "<Figure size 432x288 with 1 Axes>"
      ]
     },
     "metadata": {
      "needs_background": "light"
     },
     "output_type": "display_data"
    }
   ],
   "source": [
    "plt.scatter(\n",
    "tiklova_psix.loc[tiklova_psix.index & tiklova_brie.index].L_score, \n",
    "    tiklova_brie.loc[tiklova_psix.index & tiklova_brie.index].neuro_ELBO_gain)"
   ]
  },
  {
   "cell_type": "code",
   "execution_count": 80,
   "metadata": {},
   "outputs": [],
   "source": [
    "psix_max = tiklova_psix.loc[tiklova_psix.index & tiklova_brie.index].L_score.max()\n",
    "psix_min = tiklova_psix.loc[tiklova_psix.index & tiklova_brie.index].L_score.min()\n",
    "psix_adj = tiklova_psix.loc[tiklova_psix.index & tiklova_brie.index].L_score/(psix_max-psix_min)\n",
    "\n",
    "\n",
    "brie_max = tiklova_brie.loc[tiklova_psix.index & tiklova_brie.index].neuro_ELBO_gain.max()\n",
    "brie_min = tiklova_brie.loc[tiklova_psix.index & tiklova_brie.index].neuro_ELBO_gain.min()\n",
    "brie_adj = tiklova_brie.loc[tiklova_psix.index & tiklova_brie.index].neuro_ELBO_gain/(brie_max-brie_min)"
   ]
  },
  {
   "cell_type": "code",
   "execution_count": 81,
   "metadata": {},
   "outputs": [
    {
     "data": {
      "text/plain": [
       "Klc1_2     -0.579757\n",
       "Nnat_7     -0.550623\n",
       "Nnat_4     -0.533076\n",
       "Nnat_6     -0.450731\n",
       "Nnat_3     -0.360588\n",
       "              ...   \n",
       "Mbnl2_1     0.235846\n",
       "Dst_5       0.263886\n",
       "Micu1_4     0.285060\n",
       "Camk2g_2    0.311260\n",
       "Cadm1_3     0.373810\n",
       "Length: 1987, dtype: float64"
      ]
     },
     "execution_count": 81,
     "metadata": {},
     "output_type": "execute_result"
    }
   ],
   "source": [
    "(psix_adj-brie_adj).sort_values()"
   ]
  },
  {
   "cell_type": "code",
   "execution_count": 110,
   "metadata": {},
   "outputs": [
    {
     "ename": "Exception",
     "evalue": "Data must be 1-dimensional",
     "output_type": "error",
     "traceback": [
      "\u001b[0;31m---------------------------------------------------------------------------\u001b[0m",
      "\u001b[0;31mException\u001b[0m                                 Traceback (most recent call last)",
      "\u001b[0;32m~/sc_splicing_regulation/utils/utils_functions.py\u001b[0m in \u001b[0;36m<module>\u001b[0;34m\u001b[0m\n\u001b[1;32m      3\u001b[0m psi_a_array = np.array(\n\u001b[1;32m      4\u001b[0m         np.array(pd.DataFrame(\n\u001b[0;32m----> 5\u001b[0;31m             np.array(W_tiklova.loc[cell_list, cell_list])*psi_o_array).sum(axis=1)\n\u001b[0m\u001b[1;32m      6\u001b[0m         )/np.array(W_tiklova.loc[cell_list, cell_list].sum(axis=1)))\n",
      "\u001b[0;32m~/.local/lib/python3.7/site-packages/pandas/core/series.py\u001b[0m in \u001b[0;36m__array_ufunc__\u001b[0;34m(self, ufunc, method, *inputs, **kwargs)\u001b[0m\n\u001b[1;32m    634\u001b[0m         \u001b[0;31m# for binary ops, use our custom dunder methods\u001b[0m\u001b[0;34m\u001b[0m\u001b[0;34m\u001b[0m\u001b[0;34m\u001b[0m\u001b[0m\n\u001b[1;32m    635\u001b[0m         result = ops.maybe_dispatch_ufunc_to_dunder_op(\n\u001b[0;32m--> 636\u001b[0;31m             \u001b[0mself\u001b[0m\u001b[0;34m,\u001b[0m \u001b[0mufunc\u001b[0m\u001b[0;34m,\u001b[0m \u001b[0mmethod\u001b[0m\u001b[0;34m,\u001b[0m \u001b[0;34m*\u001b[0m\u001b[0minputs\u001b[0m\u001b[0;34m,\u001b[0m \u001b[0;34m**\u001b[0m\u001b[0mkwargs\u001b[0m\u001b[0;34m\u001b[0m\u001b[0;34m\u001b[0m\u001b[0m\n\u001b[0m\u001b[1;32m    637\u001b[0m         )\n\u001b[1;32m    638\u001b[0m         \u001b[0;32mif\u001b[0m \u001b[0mresult\u001b[0m \u001b[0;32mis\u001b[0m \u001b[0;32mnot\u001b[0m \u001b[0mNotImplemented\u001b[0m\u001b[0;34m:\u001b[0m\u001b[0;34m\u001b[0m\u001b[0;34m\u001b[0m\u001b[0m\n",
      "\u001b[0;32mpandas/_libs/ops_dispatch.pyx\u001b[0m in \u001b[0;36mpandas._libs.ops_dispatch.maybe_dispatch_ufunc_to_dunder_op\u001b[0;34m()\u001b[0m\n",
      "\u001b[0;32m~/.local/lib/python3.7/site-packages/pandas/core/ops/common.py\u001b[0m in \u001b[0;36mnew_method\u001b[0;34m(self, other)\u001b[0m\n\u001b[1;32m     62\u001b[0m         \u001b[0mother\u001b[0m \u001b[0;34m=\u001b[0m \u001b[0mitem_from_zerodim\u001b[0m\u001b[0;34m(\u001b[0m\u001b[0mother\u001b[0m\u001b[0;34m)\u001b[0m\u001b[0;34m\u001b[0m\u001b[0;34m\u001b[0m\u001b[0m\n\u001b[1;32m     63\u001b[0m \u001b[0;34m\u001b[0m\u001b[0m\n\u001b[0;32m---> 64\u001b[0;31m         \u001b[0;32mreturn\u001b[0m \u001b[0mmethod\u001b[0m\u001b[0;34m(\u001b[0m\u001b[0mself\u001b[0m\u001b[0;34m,\u001b[0m \u001b[0mother\u001b[0m\u001b[0;34m)\u001b[0m\u001b[0;34m\u001b[0m\u001b[0;34m\u001b[0m\u001b[0m\n\u001b[0m\u001b[1;32m     65\u001b[0m \u001b[0;34m\u001b[0m\u001b[0m\n\u001b[1;32m     66\u001b[0m     \u001b[0;32mreturn\u001b[0m \u001b[0mnew_method\u001b[0m\u001b[0;34m\u001b[0m\u001b[0;34m\u001b[0m\u001b[0m\n",
      "\u001b[0;32m~/.local/lib/python3.7/site-packages/pandas/core/ops/__init__.py\u001b[0m in \u001b[0;36mwrapper\u001b[0;34m(left, right)\u001b[0m\n\u001b[1;32m    503\u001b[0m         \u001b[0mresult\u001b[0m \u001b[0;34m=\u001b[0m \u001b[0marithmetic_op\u001b[0m\u001b[0;34m(\u001b[0m\u001b[0mlvalues\u001b[0m\u001b[0;34m,\u001b[0m \u001b[0mrvalues\u001b[0m\u001b[0;34m,\u001b[0m \u001b[0mop\u001b[0m\u001b[0;34m,\u001b[0m \u001b[0mstr_rep\u001b[0m\u001b[0;34m)\u001b[0m\u001b[0;34m\u001b[0m\u001b[0;34m\u001b[0m\u001b[0m\n\u001b[1;32m    504\u001b[0m \u001b[0;34m\u001b[0m\u001b[0m\n\u001b[0;32m--> 505\u001b[0;31m         \u001b[0;32mreturn\u001b[0m \u001b[0m_construct_result\u001b[0m\u001b[0;34m(\u001b[0m\u001b[0mleft\u001b[0m\u001b[0;34m,\u001b[0m \u001b[0mresult\u001b[0m\u001b[0;34m,\u001b[0m \u001b[0mindex\u001b[0m\u001b[0;34m=\u001b[0m\u001b[0mleft\u001b[0m\u001b[0;34m.\u001b[0m\u001b[0mindex\u001b[0m\u001b[0;34m,\u001b[0m \u001b[0mname\u001b[0m\u001b[0;34m=\u001b[0m\u001b[0mres_name\u001b[0m\u001b[0;34m)\u001b[0m\u001b[0;34m\u001b[0m\u001b[0;34m\u001b[0m\u001b[0m\n\u001b[0m\u001b[1;32m    506\u001b[0m \u001b[0;34m\u001b[0m\u001b[0m\n\u001b[1;32m    507\u001b[0m     \u001b[0mwrapper\u001b[0m\u001b[0;34m.\u001b[0m\u001b[0m__name__\u001b[0m \u001b[0;34m=\u001b[0m \u001b[0mop_name\u001b[0m\u001b[0;34m\u001b[0m\u001b[0;34m\u001b[0m\u001b[0m\n",
      "\u001b[0;32m~/.local/lib/python3.7/site-packages/pandas/core/ops/__init__.py\u001b[0m in \u001b[0;36m_construct_result\u001b[0;34m(left, result, index, name)\u001b[0m\n\u001b[1;32m    476\u001b[0m     \u001b[0;31m# We do not pass dtype to ensure that the Series constructor\u001b[0m\u001b[0;34m\u001b[0m\u001b[0;34m\u001b[0m\u001b[0;34m\u001b[0m\u001b[0m\n\u001b[1;32m    477\u001b[0m     \u001b[0;31m#  does inference in the case where `result` has object-dtype.\u001b[0m\u001b[0;34m\u001b[0m\u001b[0;34m\u001b[0m\u001b[0;34m\u001b[0m\u001b[0m\n\u001b[0;32m--> 478\u001b[0;31m     \u001b[0mout\u001b[0m \u001b[0;34m=\u001b[0m \u001b[0mleft\u001b[0m\u001b[0;34m.\u001b[0m\u001b[0m_constructor\u001b[0m\u001b[0;34m(\u001b[0m\u001b[0mresult\u001b[0m\u001b[0;34m,\u001b[0m \u001b[0mindex\u001b[0m\u001b[0;34m=\u001b[0m\u001b[0mindex\u001b[0m\u001b[0;34m)\u001b[0m\u001b[0;34m\u001b[0m\u001b[0;34m\u001b[0m\u001b[0m\n\u001b[0m\u001b[1;32m    479\u001b[0m     \u001b[0mout\u001b[0m \u001b[0;34m=\u001b[0m \u001b[0mout\u001b[0m\u001b[0;34m.\u001b[0m\u001b[0m__finalize__\u001b[0m\u001b[0;34m(\u001b[0m\u001b[0mleft\u001b[0m\u001b[0;34m)\u001b[0m\u001b[0;34m\u001b[0m\u001b[0;34m\u001b[0m\u001b[0m\n\u001b[1;32m    480\u001b[0m \u001b[0;34m\u001b[0m\u001b[0m\n",
      "\u001b[0;32m~/.local/lib/python3.7/site-packages/pandas/core/series.py\u001b[0m in \u001b[0;36m__init__\u001b[0;34m(self, data, index, dtype, name, copy, fastpath)\u001b[0m\n\u001b[1;32m    303\u001b[0m                     \u001b[0mdata\u001b[0m \u001b[0;34m=\u001b[0m \u001b[0mdata\u001b[0m\u001b[0;34m.\u001b[0m\u001b[0mcopy\u001b[0m\u001b[0;34m(\u001b[0m\u001b[0;34m)\u001b[0m\u001b[0;34m\u001b[0m\u001b[0;34m\u001b[0m\u001b[0m\n\u001b[1;32m    304\u001b[0m             \u001b[0;32melse\u001b[0m\u001b[0;34m:\u001b[0m\u001b[0;34m\u001b[0m\u001b[0;34m\u001b[0m\u001b[0m\n\u001b[0;32m--> 305\u001b[0;31m                 \u001b[0mdata\u001b[0m \u001b[0;34m=\u001b[0m \u001b[0msanitize_array\u001b[0m\u001b[0;34m(\u001b[0m\u001b[0mdata\u001b[0m\u001b[0;34m,\u001b[0m \u001b[0mindex\u001b[0m\u001b[0;34m,\u001b[0m \u001b[0mdtype\u001b[0m\u001b[0;34m,\u001b[0m \u001b[0mcopy\u001b[0m\u001b[0;34m,\u001b[0m \u001b[0mraise_cast_failure\u001b[0m\u001b[0;34m=\u001b[0m\u001b[0;32mTrue\u001b[0m\u001b[0;34m)\u001b[0m\u001b[0;34m\u001b[0m\u001b[0;34m\u001b[0m\u001b[0m\n\u001b[0m\u001b[1;32m    306\u001b[0m \u001b[0;34m\u001b[0m\u001b[0m\n\u001b[1;32m    307\u001b[0m                 \u001b[0mdata\u001b[0m \u001b[0;34m=\u001b[0m \u001b[0mSingleBlockManager\u001b[0m\u001b[0;34m(\u001b[0m\u001b[0mdata\u001b[0m\u001b[0;34m,\u001b[0m \u001b[0mindex\u001b[0m\u001b[0;34m,\u001b[0m \u001b[0mfastpath\u001b[0m\u001b[0;34m=\u001b[0m\u001b[0;32mTrue\u001b[0m\u001b[0;34m)\u001b[0m\u001b[0;34m\u001b[0m\u001b[0;34m\u001b[0m\u001b[0m\n",
      "\u001b[0;32m~/.local/lib/python3.7/site-packages/pandas/core/construction.py\u001b[0m in \u001b[0;36msanitize_array\u001b[0;34m(data, index, dtype, copy, raise_cast_failure)\u001b[0m\n\u001b[1;32m    480\u001b[0m     \u001b[0;32melif\u001b[0m \u001b[0msubarr\u001b[0m\u001b[0;34m.\u001b[0m\u001b[0mndim\u001b[0m \u001b[0;34m>\u001b[0m \u001b[0;36m1\u001b[0m\u001b[0;34m:\u001b[0m\u001b[0;34m\u001b[0m\u001b[0;34m\u001b[0m\u001b[0m\n\u001b[1;32m    481\u001b[0m         \u001b[0;32mif\u001b[0m \u001b[0misinstance\u001b[0m\u001b[0;34m(\u001b[0m\u001b[0mdata\u001b[0m\u001b[0;34m,\u001b[0m \u001b[0mnp\u001b[0m\u001b[0;34m.\u001b[0m\u001b[0mndarray\u001b[0m\u001b[0;34m)\u001b[0m\u001b[0;34m:\u001b[0m\u001b[0;34m\u001b[0m\u001b[0;34m\u001b[0m\u001b[0m\n\u001b[0;32m--> 482\u001b[0;31m             \u001b[0;32mraise\u001b[0m \u001b[0mException\u001b[0m\u001b[0;34m(\u001b[0m\u001b[0;34m\"Data must be 1-dimensional\"\u001b[0m\u001b[0;34m)\u001b[0m\u001b[0;34m\u001b[0m\u001b[0;34m\u001b[0m\u001b[0m\n\u001b[0m\u001b[1;32m    483\u001b[0m         \u001b[0;32melse\u001b[0m\u001b[0;34m:\u001b[0m\u001b[0;34m\u001b[0m\u001b[0;34m\u001b[0m\u001b[0m\n\u001b[1;32m    484\u001b[0m             \u001b[0msubarr\u001b[0m \u001b[0;34m=\u001b[0m \u001b[0mcom\u001b[0m\u001b[0;34m.\u001b[0m\u001b[0masarray_tuplesafe\u001b[0m\u001b[0;34m(\u001b[0m\u001b[0mdata\u001b[0m\u001b[0;34m,\u001b[0m \u001b[0mdtype\u001b[0m\u001b[0;34m=\u001b[0m\u001b[0mdtype\u001b[0m\u001b[0;34m)\u001b[0m\u001b[0;34m\u001b[0m\u001b[0;34m\u001b[0m\u001b[0m\n",
      "\u001b[0;31mException\u001b[0m: Data must be 1-dimensional"
     ]
    }
   ],
   "source": [
    "psi_o_array = tiklova_PSI.loc['Clta_4'].dropna()\n",
    "cell_list = psi_o_array.index\n",
    "psi_a_array = np.array(\n",
    "        np.array(pd.DataFrame(\n",
    "            np.array(W_tiklova.loc[cell_list, cell_list])*psi_o_array).sum(axis=1)\n",
    "        )/np.array(W_tiklova.loc[cell_list, cell_list].sum(axis=1)))"
   ]
  },
  {
   "cell_type": "code",
   "execution_count": 107,
   "metadata": {},
   "outputs": [
    {
     "data": {
      "text/plain": [
       "<matplotlib.collections.PathCollection at 0x7fccf63691d0>"
      ]
     },
     "execution_count": 107,
     "metadata": {},
     "output_type": "execute_result"
    },
    {
     "data": {
      "image/png": "[encoded data removed]",
      "text/plain": [
       "<Figure size 432x288 with 1 Axes>"
      ]
     },
     "metadata": {
      "needs_background": "light"
     },
     "output_type": "display_data"
    }
   ],
   "source": [
    "plt.scatter(tiklova_rd.PC_1, tiklova_rd.PC_2, c=tiklova_PSI.loc['Clta_4'])"
   ]
  },
  {
   "cell_type": "code",
   "execution_count": 100,
   "metadata": {},
   "outputs": [
    {
     "data": {
      "text/plain": [
       "<matplotlib.collections.PathCollection at 0x7fccf5245e90>"
      ]
     },
     "execution_count": 100,
     "metadata": {},
     "output_type": "execute_result"
    },
    {
     "data": {
      "image/png": "[encoded data removed]",
      "text/plain": [
       "<Figure size 432x288 with 1 Axes>"
      ]
     },
     "metadata": {
      "needs_background": "light"
     },
     "output_type": "display_data"
    }
   ],
   "source": [
    "plt.scatter(tiklova_rd.PC_1, tiklova_rd.PC_2, \n",
    "            c=np.random.choice(tiklova_PSI.loc['Clta_4'], len(tiklova_PSI.loc['Clta_4']), replace=False))"
   ]
  },
  {
   "cell_type": "code",
   "execution_count": 106,
   "metadata": {},
   "outputs": [
    {
     "data": {
      "text/plain": [
       "(array([508.,  57.,  92.,  66.,  53.,  59.,  55.,  67.,  70., 134.]),\n",
       " array([0. , 0.1, 0.2, 0.3, 0.4, 0.5, 0.6, 0.7, 0.8, 0.9, 1. ]),\n",
       " <a list of 10 Patch objects>)"
      ]
     },
     "execution_count": 106,
     "metadata": {},
     "output_type": "execute_result"
    },
    {
     "data": {
      "image/png": "[encoded data removed]",
      "text/plain": [
       "<Figure size 432x288 with 1 Axes>"
      ]
     },
     "metadata": {
      "needs_background": "light"
     },
     "output_type": "display_data"
    }
   ],
   "source": [
    "plt.hist(tiklova_PSI.loc['Clta_4'])"
   ]
  },
  {
   "cell_type": "code",
   "execution_count": null,
   "metadata": {},
   "outputs": [],
   "source": []
  }
 ],
 "metadata": {
  "kernelspec": {
   "display_name": "Python 3",
   "language": "python",
   "name": "python3"
  },
  "language_info": {
   "codemirror_mode": {
    "name": "ipython",
    "version": 3
   },
   "file_extension": ".py",
   "mimetype": "text/x-python",
   "name": "python",
   "nbconvert_exporter": "python",
   "pygments_lexer": "ipython3",
   "version": "3.7.6"
  }
 },
 "nbformat": 4,
 "nbformat_minor": 4
}
